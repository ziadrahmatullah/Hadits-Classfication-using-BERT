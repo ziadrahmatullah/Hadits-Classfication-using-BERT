{
  "nbformat": 4,
  "nbformat_minor": 0,
  "metadata": {
    "colab": {
      "name": "SVM Naive Bayes Indonesia.ipynb",
      "provenance": [],
      "collapsed_sections": [],
      "machine_shape": "hm"
    },
    "kernelspec": {
      "name": "python3",
      "display_name": "Python 3"
    },
    "language_info": {
      "name": "python"
    },
    "accelerator": "GPU",
    "gpuClass": "standard"
  },
  "cells": [
    {
      "cell_type": "code",
      "execution_count": 73,
      "metadata": {
        "id": "G0Vo7NJ5vhaY"
      },
      "outputs": [],
      "source": [
        "import pandas as pd\n",
        "import numpy as np\n",
        "import nltk\n",
        "from nltk.tokenize import word_tokenize\n",
        "from nltk import pos_tag\n",
        "from nltk.corpus import stopwords\n",
        "from nltk.stem import WordNetLemmatizer\n",
        "from sklearn.preprocessing import LabelEncoder\n",
        "from collections import defaultdict\n",
        "from nltk.corpus import wordnet as wn\n",
        "from sklearn.feature_extraction.text import TfidfVectorizer\n",
        "from sklearn import model_selection, naive_bayes, svm\n",
        "from sklearn.metrics import accuracy_score\n",
        "from sklearn.metrics import precision_score\n",
        "from sklearn.metrics import recall_score\n",
        "from sklearn.metrics import f1_score\n",
        "import pickle"
      ]
    },
    {
      "cell_type": "code",
      "source": [
        "nltk.download('wordnet')\n",
        "nltk.download('omw-1.4')\n",
        "nltk.download('punkt')\n",
        "nltk.download('averaged_perceptron_tagger')\n",
        "nltk.download('stopwords')"
      ],
      "metadata": {
        "colab": {
          "base_uri": "https://localhost:8080/"
        },
        "id": "Kud7gpg4wsgi",
        "outputId": "bd2733ba-392f-4fe9-b557-794866948d9e"
      },
      "execution_count": 2,
      "outputs": [
        {
          "output_type": "stream",
          "name": "stderr",
          "text": [
            "[nltk_data] Downloading package wordnet to /root/nltk_data...\n",
            "[nltk_data] Downloading package omw-1.4 to /root/nltk_data...\n",
            "[nltk_data] Downloading package punkt to /root/nltk_data...\n",
            "[nltk_data]   Unzipping tokenizers/punkt.zip.\n",
            "[nltk_data] Downloading package averaged_perceptron_tagger to\n",
            "[nltk_data]     /root/nltk_data...\n",
            "[nltk_data]   Unzipping taggers/averaged_perceptron_tagger.zip.\n",
            "[nltk_data] Downloading package stopwords to /root/nltk_data...\n",
            "[nltk_data]   Unzipping corpora/stopwords.zip.\n"
          ]
        },
        {
          "output_type": "execute_result",
          "data": {
            "text/plain": [
              "True"
            ]
          },
          "metadata": {},
          "execution_count": 2
        }
      ]
    },
    {
      "cell_type": "code",
      "source": [
        "from google.colab import drive\n",
        "drive.mount('/content/drive')"
      ],
      "metadata": {
        "colab": {
          "base_uri": "https://localhost:8080/"
        },
        "id": "_f-895hpvk1X",
        "outputId": "b77ff68d-964e-4da4-8c65-c92530e40e60"
      },
      "execution_count": 3,
      "outputs": [
        {
          "output_type": "stream",
          "name": "stdout",
          "text": [
            "Mounted at /content/drive\n"
          ]
        }
      ]
    },
    {
      "cell_type": "code",
      "source": [
        "np.random.seed(500)"
      ],
      "metadata": {
        "id": "HJj3VWvYvwuJ"
      },
      "execution_count": 4,
      "outputs": []
    },
    {
      "cell_type": "code",
      "source": [
        "Corpus = pd.read_csv(\"/content/drive/MyDrive/TA/svm_nb_train/bukhari_nr.csv\", encoding='latin-1')"
      ],
      "metadata": {
        "id": "b3S4-blwvzkA"
      },
      "execution_count": 75,
      "outputs": []
    },
    {
      "cell_type": "code",
      "source": [
        "tag_map = defaultdict(lambda: wn.NOUN)\n",
        "tag_map['J'] = wn.ADJ\n",
        "tag_map['V'] = wn.VERB\n",
        "tag_map['R'] = wn.ADV\n"
      ],
      "metadata": {
        "id": "UF0zITE5wQwC"
      },
      "execution_count": 76,
      "outputs": []
    },
    {
      "cell_type": "code",
      "source": [
        "def text_preprocessing(text):\n",
        "    # Mengubah semua teks menjadi lower case\n",
        "    text = text.lower()\n",
        "\n",
        "    # Melakukan tokenisasi\n",
        "    text_words_list = word_tokenize(text)\n",
        "\n",
        "    # Menghapus stopword dan melakukan lematisasi\n",
        "    Final_words = []\n",
        "    word_Lemmatized = WordNetLemmatizer()\n",
        "\n",
        "    for word, tag in pos_tag(text_words_list):\n",
        "        if word not in stopwords.words('english') and word.isalpha():\n",
        "            word_Final = word_Lemmatized.lemmatize(word, tag_map[tag[0]])\n",
        "            Final_words.append(word_Final)\n",
        "    return str(Final_words)"
      ],
      "metadata": {
        "id": "9gvq7Hw0wzs5"
      },
      "execution_count": 77,
      "outputs": []
    },
    {
      "cell_type": "code",
      "source": [
        "Corpus['text_final'] = Corpus['indo'].map(text_preprocessing)"
      ],
      "metadata": {
        "id": "t5sdDydiw4IQ"
      },
      "execution_count": 78,
      "outputs": []
    },
    {
      "cell_type": "code",
      "source": [
        "Train_X, Test_X, Train_Y, Test_Y = model_selection.train_test_split(Corpus['text_final'], Corpus['kitabId'],\n",
        "                                                                    test_size=0.2)"
      ],
      "metadata": {
        "id": "X7QCUHbXxZeb"
      },
      "execution_count": 79,
      "outputs": []
    },
    {
      "cell_type": "code",
      "source": [
        "# Label encode variabel target \n",
        "Encoder = LabelEncoder()\n",
        "Encoder.fit(Train_Y)\n",
        "Train_Y = Encoder.transform(Train_Y)\n",
        "Test_Y = Encoder.transform(Test_Y)"
      ],
      "metadata": {
        "id": "4Prj8DFrx_Qi"
      },
      "execution_count": 80,
      "outputs": []
    },
    {
      "cell_type": "code",
      "source": [
        "# Vectorize kata menggunakan TF-IDF Vectorizer\n",
        "Tfidf_vect = TfidfVectorizer(max_features=5000)\n",
        "Tfidf_vect.fit(Corpus['text_final'])\n",
        "\n",
        "Train_X_Tfidf = Tfidf_vect.transform(Train_X)\n",
        "Test_X_Tfidf = Tfidf_vect.transform(Test_X)"
      ],
      "metadata": {
        "id": "_-T9BCPkyEBD"
      },
      "execution_count": 81,
      "outputs": []
    },
    {
      "cell_type": "code",
      "source": [
        "# Classifier - Algorithm - Naive Bayes\n",
        "# fit the training dataset on the classifier\n",
        "Naive = naive_bayes.MultinomialNB()\n",
        "Naive.fit(Train_X_Tfidf, Train_Y)"
      ],
      "metadata": {
        "colab": {
          "base_uri": "https://localhost:8080/"
        },
        "id": "llJJC-K0z7JI",
        "outputId": "ebcafcbe-a6e5-4b69-8b8d-3b8ea4ee7fd5"
      },
      "execution_count": 82,
      "outputs": [
        {
          "output_type": "execute_result",
          "data": {
            "text/plain": [
              "MultinomialNB()"
            ]
          },
          "metadata": {},
          "execution_count": 82
        }
      ]
    },
    {
      "cell_type": "code",
      "source": [
        "# predict the labels on validation dataset\n",
        "predictions_NB = Naive.predict(Test_X_Tfidf)"
      ],
      "metadata": {
        "id": "ZTGDVP-mz_cB"
      },
      "execution_count": 83,
      "outputs": []
    },
    {
      "cell_type": "code",
      "source": [
        "# Use accuracy_score function to get the accuracy\n",
        "print(\"Naive Bayes Accuracy Score -> \", accuracy_score(predictions_NB, Test_Y) * 100)"
      ],
      "metadata": {
        "colab": {
          "base_uri": "https://localhost:8080/"
        },
        "id": "T18QYP8r0xap",
        "outputId": "8ffac9fd-5428-4b64-ff99-dc590d56debc"
      },
      "execution_count": 84,
      "outputs": [
        {
          "output_type": "stream",
          "name": "stdout",
          "text": [
            "Naive Bayes Accuracy Score ->  67.76034236804564\n"
          ]
        }
      ]
    },
    {
      "cell_type": "code",
      "source": [
        "print(\"Naive Bayes Precision Score -> \", precision_score(Test_Y, predictions_NB, average='macro'))"
      ],
      "metadata": {
        "colab": {
          "base_uri": "https://localhost:8080/"
        },
        "id": "CUu98roo6D7F",
        "outputId": "97aa1569-5057-4476-bfc8-e53106148ab4"
      },
      "execution_count": 85,
      "outputs": [
        {
          "output_type": "stream",
          "name": "stdout",
          "text": [
            "Naive Bayes Precision Score ->  0.7128281985875065\n"
          ]
        }
      ]
    },
    {
      "cell_type": "code",
      "source": [
        "print(\"Naive Bayes Recall Score -> \", recall_score(Test_Y, predictions_NB, average='macro'))"
      ],
      "metadata": {
        "colab": {
          "base_uri": "https://localhost:8080/"
        },
        "id": "EOH8Jcyv6EC7",
        "outputId": "0dc94870-2c25-4599-c459-22f777169677"
      },
      "execution_count": 86,
      "outputs": [
        {
          "output_type": "stream",
          "name": "stdout",
          "text": [
            "Naive Bayes Recall Score ->  0.6899769754359398\n"
          ]
        }
      ]
    },
    {
      "cell_type": "code",
      "source": [
        "print(\"Naive Bayes F1 Score -> \", f1_score(Test_Y, predictions_NB, average='macro'))"
      ],
      "metadata": {
        "colab": {
          "base_uri": "https://localhost:8080/"
        },
        "id": "d5DKF9XX6EIp",
        "outputId": "5607cc97-54d4-4e1b-c4ff-efcfad40d978"
      },
      "execution_count": 87,
      "outputs": [
        {
          "output_type": "stream",
          "name": "stdout",
          "text": [
            "Naive Bayes F1 Score ->  0.6568364248794872\n"
          ]
        }
      ]
    },
    {
      "cell_type": "code",
      "source": [
        "# Classifier - Algorithm - SVM\n",
        "# fit the training dataset on the classifier\n",
        "SVM = svm.SVC(C=1.0, kernel='linear', degree=3, gamma='auto')\n",
        "SVM.fit(Train_X_Tfidf, Train_Y)"
      ],
      "metadata": {
        "colab": {
          "base_uri": "https://localhost:8080/"
        },
        "id": "hw8908ob02hq",
        "outputId": "9573bc39-e987-4bf1-d832-0ee18e34f6f1"
      },
      "execution_count": 88,
      "outputs": [
        {
          "output_type": "execute_result",
          "data": {
            "text/plain": [
              "SVC(gamma='auto', kernel='linear')"
            ]
          },
          "metadata": {},
          "execution_count": 88
        }
      ]
    },
    {
      "cell_type": "code",
      "source": [
        "# predict the labels on validation dataset\n",
        "predictions_SVM = SVM.predict(Test_X_Tfidf)"
      ],
      "metadata": {
        "id": "vGTXQKOF1KwJ"
      },
      "execution_count": 89,
      "outputs": []
    },
    {
      "cell_type": "code",
      "source": [
        "# Use accuracy_score function to get the accuracy\n",
        "print(\"SVM Accuracy Score -> \", accuracy_score(predictions_SVM, Test_Y) * 100)"
      ],
      "metadata": {
        "colab": {
          "base_uri": "https://localhost:8080/"
        },
        "id": "dTJuZVSs1LmR",
        "outputId": "52288040-96e4-4316-806e-215ba3e47530"
      },
      "execution_count": 90,
      "outputs": [
        {
          "output_type": "stream",
          "name": "stdout",
          "text": [
            "SVM Accuracy Score ->  79.95720399429386\n"
          ]
        }
      ]
    },
    {
      "cell_type": "code",
      "source": [
        "print(\"SVM Precision Score -> \", precision_score(Test_Y, predictions_SVM, average='macro'))"
      ],
      "metadata": {
        "colab": {
          "base_uri": "https://localhost:8080/"
        },
        "id": "uCF2PbHX1knr",
        "outputId": "a4e810da-dc4a-4c50-9152-4a6581c5c16b"
      },
      "execution_count": 91,
      "outputs": [
        {
          "output_type": "stream",
          "name": "stdout",
          "text": [
            "SVM Precision Score ->  0.7961988408764923\n"
          ]
        }
      ]
    },
    {
      "cell_type": "code",
      "source": [
        "print(\"SVM Recall Score -> \", recall_score(Test_Y, predictions_SVM, average='macro'))"
      ],
      "metadata": {
        "colab": {
          "base_uri": "https://localhost:8080/"
        },
        "id": "2OKIoMqE0cGD",
        "outputId": "b1d48371-bd2a-4577-9316-884124bdfcc8"
      },
      "execution_count": 92,
      "outputs": [
        {
          "output_type": "stream",
          "name": "stdout",
          "text": [
            "SVM Recall Score ->  0.797298193613771\n"
          ]
        }
      ]
    },
    {
      "cell_type": "code",
      "source": [
        "print(\"SVM F1 Score -> \", f1_score(Test_Y, predictions_SVM, average='macro'))"
      ],
      "metadata": {
        "colab": {
          "base_uri": "https://localhost:8080/"
        },
        "id": "YmcgdcUY5YnF",
        "outputId": "6a2141db-8624-4c4a-84a2-bf7b614de6dd"
      },
      "execution_count": 93,
      "outputs": [
        {
          "output_type": "stream",
          "name": "stdout",
          "text": [
            "SVM F1 Score ->  0.7897564370601488\n"
          ]
        }
      ]
    },
    {
      "cell_type": "code",
      "source": [
        ""
      ],
      "metadata": {
        "id": "0j8ThQHP5R-V"
      },
      "execution_count": 72,
      "outputs": []
    },
    {
      "cell_type": "code",
      "source": [
        "# Predict Data"
      ],
      "metadata": {
        "id": "ADob-WSn0cMs"
      },
      "execution_count": 47,
      "outputs": []
    },
    {
      "cell_type": "code",
      "source": [
        "hadits_data_loc = [\n",
        "    '/content/drive/MyDrive/TA/json_data/abudaud.json',\n",
        "    '/content/drive/MyDrive/TA/json_data/darimi.json',\n",
        "    '/content/drive/MyDrive/TA/json_data/ibnumajah.json',\n",
        "    '/content/drive/MyDrive/TA/json_data/malik.json',\n",
        "    '/content/drive/MyDrive/TA/json_data/muslim.json',\n",
        "    '/content/drive/MyDrive/TA/json_data/nasai.json',\n",
        "    '/content/drive/MyDrive/TA/json_data/tirmidzi.json'\n",
        "]\n",
        "hadits_ns_loc = [\n",
        "    '/content/drive/MyDrive/TA/noSanad/abudaud.csv',\n",
        "    '/content/drive/MyDrive/TA/noSanad/darimi.csv',\n",
        "    '/content/drive/MyDrive/TA/noSanad/ibnumajah.csv',\n",
        "    '/content/drive/MyDrive/TA/noSanad/malik.csv',\n",
        "    '/content/drive/MyDrive/TA/noSanad/muslim.csv',\n",
        "    '/content/drive/MyDrive/TA/noSanad/nasai.csv',\n",
        "    '/content/drive/MyDrive/TA/noSanad/tirmidzi.csv'\n",
        "]\n",
        "hadits_nr_loc = [\n",
        "    '/content/drive/MyDrive/TA/noSanad_name/abudaud.csv',\n",
        "    '/content/drive/MyDrive/TA/noSanad_name/darimi.csv',\n",
        "    '/content/drive/MyDrive/TA/noSanad_name/ibnumajah.csv',\n",
        "    '/content/drive/MyDrive/TA/noSanad_name/malik.csv',\n",
        "    '/content/drive/MyDrive/TA/noSanad_name/muslim.csv',\n",
        "    '/content/drive/MyDrive/TA/noSanad_name/nasai.csv',\n",
        "    '/content/drive/MyDrive/TA/noSanad_name/tirmidzi.csv'\n",
        "]\n",
        "hadits_ns_save_loc = [\n",
        "    '/content/drive/MyDrive/TA/svm_nb_result/ns/abudaud.csv',\n",
        "    '/content/drive/MyDrive/TA/svm_nb_result/ns/darimi.csv',\n",
        "    '/content/drive/MyDrive/TA/svm_nb_result/ns/ibnumajah.csv',\n",
        "    '/content/drive/MyDrive/TA/svm_nb_result/ns/malik.csv',\n",
        "    '/content/drive/MyDrive/TA/svm_nb_result/ns/muslim.csv',\n",
        "    '/content/drive/MyDrive/TA/svm_nb_result/ns/nasai.csv',\n",
        "    '/content/drive/MyDrive/TA/svm_nb_result/ns/tirmidzi.csv'\n",
        "]\n",
        "hadits_nr_save_loc = [\n",
        "    '/content/drive/MyDrive/TA/svm_nb_result/nr/abudaud.csv',\n",
        "    '/content/drive/MyDrive/TA/svm_nb_result/nr/darimi.csv',\n",
        "    '/content/drive/MyDrive/TA/svm_nb_result/nr/ibnumajah.csv',\n",
        "    '/content/drive/MyDrive/TA/svm_nb_result/nr/malik.csv',\n",
        "    '/content/drive/MyDrive/TA/svm_nb_result/nr/muslim.csv',\n",
        "    '/content/drive/MyDrive/TA/svm_nb_result/nr/nasai.csv',\n",
        "    '/content/drive/MyDrive/TA/svm_nb_result/nr/tirmidzi.csv'\n",
        "]"
      ],
      "metadata": {
        "id": "1-7AxMOS0ufx"
      },
      "execution_count": 95,
      "outputs": []
    },
    {
      "cell_type": "code",
      "source": [
        "def reading_data_result(data_file):\n",
        "    data_file = pd.read_json(data_file)\n",
        "    data_file = data_file.sort_values(by=['haditsId'])\n",
        "    data_file = data_file.reset_index()\n",
        "    data_file = data_file[[\"haditsId\" , \"kitabId\",\"indo\", \"arab\" ]]\n",
        "    return data_file\n",
        "\n",
        "for i in tqdm(range(len(hadits_nr_loc))):\n",
        "  Corpus = pd.read_csv(hadits_nr_loc[i], encoding='latin-1')\n",
        "  Corpus['text_final'] = Corpus['indo'].map(text_preprocessing)\n",
        "  Train_X = Corpus['text_final']\n",
        "  Train_Y = Corpus['kitabId']\n",
        "\n",
        "  Encoder = LabelEncoder()\n",
        "  Encoder.fit(Train_Y)\n",
        "  Train_Y = Encoder.transform(Train_Y)\n",
        "  Tfidf_vect = TfidfVectorizer(max_features=5000)\n",
        "  Tfidf_vect.fit(Corpus['text_final'])\n",
        "  Train_X_Tfidf = Tfidf_vect.transform(Train_X)\n",
        "\n",
        "  # Naive Bayes\n",
        "  predictions_NB = Naive.predict(Train_X_Tfidf)\n",
        "  final = reading_data_result(hadits_data_loc[i])\n",
        "  final['label'] = predictions_NB\n",
        "  file_output = hadits_nr_save_loc[i]\n",
        "  final.to_csv(file_output, index=False)\n",
        "\n",
        "  # SVM\n",
        "  predictions_SVM = SVM.predict(Train_X_Tfidf)\n",
        "  final = reading_data_result(hadits_data_loc[i])\n",
        "  final['label'] = predictions_SVM\n",
        "  file_output = hadits_nr_save_loc[i]\n",
        "  final.to_csv(file_output, index=False)\n"
      ],
      "metadata": {
        "colab": {
          "base_uri": "https://localhost:8080/"
        },
        "id": "HgoA_EHH0cPC",
        "outputId": "1fbed503-720a-4716-fc19-1b2e9c784f58"
      },
      "execution_count": 98,
      "outputs": [
        {
          "output_type": "stream",
          "name": "stderr",
          "text": [
            "100%|██████████| 7/7 [07:33<00:00, 64.77s/it]\n"
          ]
        }
      ]
    },
    {
      "cell_type": "code",
      "source": [
        ""
      ],
      "metadata": {
        "id": "2KXR5_8d0oVa"
      },
      "execution_count": null,
      "outputs": []
    },
    {
      "cell_type": "code",
      "source": [
        ""
      ],
      "metadata": {
        "id": "Si27nVpQ0cRX"
      },
      "execution_count": null,
      "outputs": []
    },
    {
      "cell_type": "code",
      "source": [
        "df = pd.DataFrame({'svm':predictions_SVM,'nb':predictions_NB}, columns = ['svm', 'nb'])"
      ],
      "metadata": {
        "id": "70DC9d0R1OQK"
      },
      "execution_count": 44,
      "outputs": []
    },
    {
      "cell_type": "code",
      "source": [
        "df.groupby('svm').describe()"
      ],
      "metadata": {
        "colab": {
          "base_uri": "https://localhost:8080/",
          "height": 486
        },
        "id": "m_9f9USmylWA",
        "outputId": "59993d60-9e45-42b4-8fc3-f9fa0da5d954"
      },
      "execution_count": 46,
      "outputs": [
        {
          "output_type": "execute_result",
          "data": {
            "text/plain": [
              "       nb                                                     \n",
              "    count       mean        std   min    25%   50%   75%   max\n",
              "svm                                                           \n",
              "0    22.0   0.000000   0.000000   0.0   0.00   0.0   0.0   0.0\n",
              "1    19.0  15.894737  19.040585   1.0   1.00   1.0  39.5  44.0\n",
              "2    19.0  19.000000  20.537229   2.0   2.00   2.0  42.0  57.0\n",
              "3    15.0  17.200000  20.227986   3.0   3.00   4.0  34.5  51.0\n",
              "4    23.0   6.043478   8.059316   4.0   4.00   4.0   4.0  42.0\n",
              "..    ...        ...        ...   ...    ...   ...   ...   ...\n",
              "72   28.0  52.071429  20.241008   6.0  43.00  51.0  72.0  76.0\n",
              "73   24.0  58.333333  25.964301  13.0  59.25  73.0  73.0  73.0\n",
              "74   22.0  64.181818  19.701671  14.0  74.00  74.0  74.0  74.0\n",
              "75   12.0  45.333333  23.046725  10.0  25.00  43.0  69.0  75.0\n",
              "76   14.0  60.428571  16.392842  43.0  43.25  65.0  76.0  76.0\n",
              "\n",
              "[77 rows x 8 columns]"
            ],
            "text/html": [
              "\n",
              "  <div id=\"df-dd2f161d-8dfc-4d5e-9299-2ff7c74ad1b9\">\n",
              "    <div class=\"colab-df-container\">\n",
              "      <div>\n",
              "<style scoped>\n",
              "    .dataframe tbody tr th:only-of-type {\n",
              "        vertical-align: middle;\n",
              "    }\n",
              "\n",
              "    .dataframe tbody tr th {\n",
              "        vertical-align: top;\n",
              "    }\n",
              "\n",
              "    .dataframe thead tr th {\n",
              "        text-align: left;\n",
              "    }\n",
              "\n",
              "    .dataframe thead tr:last-of-type th {\n",
              "        text-align: right;\n",
              "    }\n",
              "</style>\n",
              "<table border=\"1\" class=\"dataframe\">\n",
              "  <thead>\n",
              "    <tr>\n",
              "      <th></th>\n",
              "      <th colspan=\"8\" halign=\"left\">nb</th>\n",
              "    </tr>\n",
              "    <tr>\n",
              "      <th></th>\n",
              "      <th>count</th>\n",
              "      <th>mean</th>\n",
              "      <th>std</th>\n",
              "      <th>min</th>\n",
              "      <th>25%</th>\n",
              "      <th>50%</th>\n",
              "      <th>75%</th>\n",
              "      <th>max</th>\n",
              "    </tr>\n",
              "    <tr>\n",
              "      <th>svm</th>\n",
              "      <th></th>\n",
              "      <th></th>\n",
              "      <th></th>\n",
              "      <th></th>\n",
              "      <th></th>\n",
              "      <th></th>\n",
              "      <th></th>\n",
              "      <th></th>\n",
              "    </tr>\n",
              "  </thead>\n",
              "  <tbody>\n",
              "    <tr>\n",
              "      <th>0</th>\n",
              "      <td>22.0</td>\n",
              "      <td>0.000000</td>\n",
              "      <td>0.000000</td>\n",
              "      <td>0.0</td>\n",
              "      <td>0.00</td>\n",
              "      <td>0.0</td>\n",
              "      <td>0.0</td>\n",
              "      <td>0.0</td>\n",
              "    </tr>\n",
              "    <tr>\n",
              "      <th>1</th>\n",
              "      <td>19.0</td>\n",
              "      <td>15.894737</td>\n",
              "      <td>19.040585</td>\n",
              "      <td>1.0</td>\n",
              "      <td>1.00</td>\n",
              "      <td>1.0</td>\n",
              "      <td>39.5</td>\n",
              "      <td>44.0</td>\n",
              "    </tr>\n",
              "    <tr>\n",
              "      <th>2</th>\n",
              "      <td>19.0</td>\n",
              "      <td>19.000000</td>\n",
              "      <td>20.537229</td>\n",
              "      <td>2.0</td>\n",
              "      <td>2.00</td>\n",
              "      <td>2.0</td>\n",
              "      <td>42.0</td>\n",
              "      <td>57.0</td>\n",
              "    </tr>\n",
              "    <tr>\n",
              "      <th>3</th>\n",
              "      <td>15.0</td>\n",
              "      <td>17.200000</td>\n",
              "      <td>20.227986</td>\n",
              "      <td>3.0</td>\n",
              "      <td>3.00</td>\n",
              "      <td>4.0</td>\n",
              "      <td>34.5</td>\n",
              "      <td>51.0</td>\n",
              "    </tr>\n",
              "    <tr>\n",
              "      <th>4</th>\n",
              "      <td>23.0</td>\n",
              "      <td>6.043478</td>\n",
              "      <td>8.059316</td>\n",
              "      <td>4.0</td>\n",
              "      <td>4.00</td>\n",
              "      <td>4.0</td>\n",
              "      <td>4.0</td>\n",
              "      <td>42.0</td>\n",
              "    </tr>\n",
              "    <tr>\n",
              "      <th>...</th>\n",
              "      <td>...</td>\n",
              "      <td>...</td>\n",
              "      <td>...</td>\n",
              "      <td>...</td>\n",
              "      <td>...</td>\n",
              "      <td>...</td>\n",
              "      <td>...</td>\n",
              "      <td>...</td>\n",
              "    </tr>\n",
              "    <tr>\n",
              "      <th>72</th>\n",
              "      <td>28.0</td>\n",
              "      <td>52.071429</td>\n",
              "      <td>20.241008</td>\n",
              "      <td>6.0</td>\n",
              "      <td>43.00</td>\n",
              "      <td>51.0</td>\n",
              "      <td>72.0</td>\n",
              "      <td>76.0</td>\n",
              "    </tr>\n",
              "    <tr>\n",
              "      <th>73</th>\n",
              "      <td>24.0</td>\n",
              "      <td>58.333333</td>\n",
              "      <td>25.964301</td>\n",
              "      <td>13.0</td>\n",
              "      <td>59.25</td>\n",
              "      <td>73.0</td>\n",
              "      <td>73.0</td>\n",
              "      <td>73.0</td>\n",
              "    </tr>\n",
              "    <tr>\n",
              "      <th>74</th>\n",
              "      <td>22.0</td>\n",
              "      <td>64.181818</td>\n",
              "      <td>19.701671</td>\n",
              "      <td>14.0</td>\n",
              "      <td>74.00</td>\n",
              "      <td>74.0</td>\n",
              "      <td>74.0</td>\n",
              "      <td>74.0</td>\n",
              "    </tr>\n",
              "    <tr>\n",
              "      <th>75</th>\n",
              "      <td>12.0</td>\n",
              "      <td>45.333333</td>\n",
              "      <td>23.046725</td>\n",
              "      <td>10.0</td>\n",
              "      <td>25.00</td>\n",
              "      <td>43.0</td>\n",
              "      <td>69.0</td>\n",
              "      <td>75.0</td>\n",
              "    </tr>\n",
              "    <tr>\n",
              "      <th>76</th>\n",
              "      <td>14.0</td>\n",
              "      <td>60.428571</td>\n",
              "      <td>16.392842</td>\n",
              "      <td>43.0</td>\n",
              "      <td>43.25</td>\n",
              "      <td>65.0</td>\n",
              "      <td>76.0</td>\n",
              "      <td>76.0</td>\n",
              "    </tr>\n",
              "  </tbody>\n",
              "</table>\n",
              "<p>77 rows × 8 columns</p>\n",
              "</div>\n",
              "      <button class=\"colab-df-convert\" onclick=\"convertToInteractive('df-dd2f161d-8dfc-4d5e-9299-2ff7c74ad1b9')\"\n",
              "              title=\"Convert this dataframe to an interactive table.\"\n",
              "              style=\"display:none;\">\n",
              "        \n",
              "  <svg xmlns=\"http://www.w3.org/2000/svg\" height=\"24px\"viewBox=\"0 0 24 24\"\n",
              "       width=\"24px\">\n",
              "    <path d=\"M0 0h24v24H0V0z\" fill=\"none\"/>\n",
              "    <path d=\"M18.56 5.44l.94 2.06.94-2.06 2.06-.94-2.06-.94-.94-2.06-.94 2.06-2.06.94zm-11 1L8.5 8.5l.94-2.06 2.06-.94-2.06-.94L8.5 2.5l-.94 2.06-2.06.94zm10 10l.94 2.06.94-2.06 2.06-.94-2.06-.94-.94-2.06-.94 2.06-2.06.94z\"/><path d=\"M17.41 7.96l-1.37-1.37c-.4-.4-.92-.59-1.43-.59-.52 0-1.04.2-1.43.59L10.3 9.45l-7.72 7.72c-.78.78-.78 2.05 0 2.83L4 21.41c.39.39.9.59 1.41.59.51 0 1.02-.2 1.41-.59l7.78-7.78 2.81-2.81c.8-.78.8-2.07 0-2.86zM5.41 20L4 18.59l7.72-7.72 1.47 1.35L5.41 20z\"/>\n",
              "  </svg>\n",
              "      </button>\n",
              "      \n",
              "  <style>\n",
              "    .colab-df-container {\n",
              "      display:flex;\n",
              "      flex-wrap:wrap;\n",
              "      gap: 12px;\n",
              "    }\n",
              "\n",
              "    .colab-df-convert {\n",
              "      background-color: #E8F0FE;\n",
              "      border: none;\n",
              "      border-radius: 50%;\n",
              "      cursor: pointer;\n",
              "      display: none;\n",
              "      fill: #1967D2;\n",
              "      height: 32px;\n",
              "      padding: 0 0 0 0;\n",
              "      width: 32px;\n",
              "    }\n",
              "\n",
              "    .colab-df-convert:hover {\n",
              "      background-color: #E2EBFA;\n",
              "      box-shadow: 0px 1px 2px rgba(60, 64, 67, 0.3), 0px 1px 3px 1px rgba(60, 64, 67, 0.15);\n",
              "      fill: #174EA6;\n",
              "    }\n",
              "\n",
              "    [theme=dark] .colab-df-convert {\n",
              "      background-color: #3B4455;\n",
              "      fill: #D2E3FC;\n",
              "    }\n",
              "\n",
              "    [theme=dark] .colab-df-convert:hover {\n",
              "      background-color: #434B5C;\n",
              "      box-shadow: 0px 1px 3px 1px rgba(0, 0, 0, 0.15);\n",
              "      filter: drop-shadow(0px 1px 2px rgba(0, 0, 0, 0.3));\n",
              "      fill: #FFFFFF;\n",
              "    }\n",
              "  </style>\n",
              "\n",
              "      <script>\n",
              "        const buttonEl =\n",
              "          document.querySelector('#df-dd2f161d-8dfc-4d5e-9299-2ff7c74ad1b9 button.colab-df-convert');\n",
              "        buttonEl.style.display =\n",
              "          google.colab.kernel.accessAllowed ? 'block' : 'none';\n",
              "\n",
              "        async function convertToInteractive(key) {\n",
              "          const element = document.querySelector('#df-dd2f161d-8dfc-4d5e-9299-2ff7c74ad1b9');\n",
              "          const dataTable =\n",
              "            await google.colab.kernel.invokeFunction('convertToInteractive',\n",
              "                                                     [key], {});\n",
              "          if (!dataTable) return;\n",
              "\n",
              "          const docLinkHtml = 'Like what you see? Visit the ' +\n",
              "            '<a target=\"_blank\" href=https://colab.research.google.com/notebooks/data_table.ipynb>data table notebook</a>'\n",
              "            + ' to learn more about interactive tables.';\n",
              "          element.innerHTML = '';\n",
              "          dataTable['output_type'] = 'display_data';\n",
              "          await google.colab.output.renderOutput(dataTable, element);\n",
              "          const docLink = document.createElement('div');\n",
              "          docLink.innerHTML = docLinkHtml;\n",
              "          element.appendChild(docLink);\n",
              "        }\n",
              "      </script>\n",
              "    </div>\n",
              "  </div>\n",
              "  "
            ]
          },
          "metadata": {},
          "execution_count": 46
        }
      ]
    },
    {
      "cell_type": "code",
      "source": [
        ""
      ],
      "metadata": {
        "id": "wOn8Wnfuyln5"
      },
      "execution_count": null,
      "outputs": []
    }
  ]
}
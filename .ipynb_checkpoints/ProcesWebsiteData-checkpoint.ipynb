{
 "cells": [
  {
   "cell_type": "code",
   "execution_count": 31,
   "id": "75f4daa9",
   "metadata": {},
   "outputs": [],
   "source": [
    "import tqdm as notebook_tqdm\n",
    "from tqdm import tqdm\n",
    "\n",
    "# for data\n",
    "import json\n",
    "import pandas as pd\n",
    "import numpy as np\n",
    "import csv"
   ]
  },
  {
   "cell_type": "code",
   "execution_count": 32,
   "id": "2c0327e7",
   "metadata": {},
   "outputs": [],
   "source": [
    "# hadits_list = ['bukhari']\n",
    "hadits_list = ['abudaud', 'darimi', 'ibnumajah', 'malik', 'muslim', 'nasai', 'tirmidzi']"
   ]
  },
  {
   "cell_type": "code",
   "execution_count": 33,
   "id": "009817f4",
   "metadata": {},
   "outputs": [],
   "source": [
    "hadits_loc= 'Dataset/bert_result/model4/nr/'\n",
    "# hadits_save = 'website/data/ns/'\n",
    "hadits_save = 'Dataset/bert_result/model4/log_nr/'\n",
    "    "
   ]
  },
  {
   "cell_type": "code",
   "execution_count": 13,
   "id": "c0bab75e",
   "metadata": {},
   "outputs": [
    {
     "data": {
      "text/html": [
       "<div>\n",
       "<style scoped>\n",
       "    .dataframe tbody tr th:only-of-type {\n",
       "        vertical-align: middle;\n",
       "    }\n",
       "\n",
       "    .dataframe tbody tr th {\n",
       "        vertical-align: top;\n",
       "    }\n",
       "\n",
       "    .dataframe thead th {\n",
       "        text-align: right;\n",
       "    }\n",
       "</style>\n",
       "<table border=\"1\" class=\"dataframe\">\n",
       "  <thead>\n",
       "    <tr style=\"text-align: right;\">\n",
       "      <th></th>\n",
       "      <th>haditsId</th>\n",
       "      <th>kitabId</th>\n",
       "      <th>indo</th>\n",
       "      <th>arab</th>\n",
       "      <th>label</th>\n",
       "    </tr>\n",
       "  </thead>\n",
       "  <tbody>\n",
       "    <tr>\n",
       "      <th>0</th>\n",
       "      <td>1</td>\n",
       "      <td>1</td>\n",
       "      <td>Telah menceritakan kepada kami [Abdullah bin M...</td>\n",
       "      <td>حَدَّثَنَا عَبْدُ اللَّهِ بْنُ مَسْلَمَةَ بْنِ...</td>\n",
       "      <td>28</td>\n",
       "    </tr>\n",
       "    <tr>\n",
       "      <th>1</th>\n",
       "      <td>2</td>\n",
       "      <td>1</td>\n",
       "      <td>Telah menceritakan kepada kami [Musaddad bin M...</td>\n",
       "      <td>حَدَّثَنَا مُسَدَّدُ بْنُ مُسَرْهَدٍ حَدَّثَنَ...</td>\n",
       "      <td>26</td>\n",
       "    </tr>\n",
       "    <tr>\n",
       "      <th>2</th>\n",
       "      <td>3</td>\n",
       "      <td>1</td>\n",
       "      <td>Telah menceritakan kepada kami [Musa bin Isma'...</td>\n",
       "      <td>حَدَّثَنَا مُوسَى بْنُ إِسْمَعِيلَ حَدَّثَنَا ...</td>\n",
       "      <td>3</td>\n",
       "    </tr>\n",
       "    <tr>\n",
       "      <th>3</th>\n",
       "      <td>4</td>\n",
       "      <td>1</td>\n",
       "      <td>Telah menceritakan kepada kami [Musaddad bin M...</td>\n",
       "      <td>حَدَّثَنَا مُسَدَّدُ بْنُ مُسَرْهَدٍ حَدَّثَنَ...</td>\n",
       "      <td>44</td>\n",
       "    </tr>\n",
       "    <tr>\n",
       "      <th>4</th>\n",
       "      <td>5</td>\n",
       "      <td>1</td>\n",
       "      <td>Telah menceritakan kepada kami [Amru bin Marzu...</td>\n",
       "      <td>حَدَّثَنَا عَمْرُو بْنُ مَرْزُوقٍ أَخْبَرَنَا ...</td>\n",
       "      <td>3</td>\n",
       "    </tr>\n",
       "  </tbody>\n",
       "</table>\n",
       "</div>"
      ],
      "text/plain": [
       "   haditsId  kitabId                                               indo  \\\n",
       "0         1        1  Telah menceritakan kepada kami [Abdullah bin M...   \n",
       "1         2        1  Telah menceritakan kepada kami [Musaddad bin M...   \n",
       "2         3        1  Telah menceritakan kepada kami [Musa bin Isma'...   \n",
       "3         4        1  Telah menceritakan kepada kami [Musaddad bin M...   \n",
       "4         5        1  Telah menceritakan kepada kami [Amru bin Marzu...   \n",
       "\n",
       "                                                arab  label  \n",
       "0  حَدَّثَنَا عَبْدُ اللَّهِ بْنُ مَسْلَمَةَ بْنِ...     28  \n",
       "1  حَدَّثَنَا مُسَدَّدُ بْنُ مُسَرْهَدٍ حَدَّثَنَ...     26  \n",
       "2  حَدَّثَنَا مُوسَى بْنُ إِسْمَعِيلَ حَدَّثَنَا ...      3  \n",
       "3  حَدَّثَنَا مُسَدَّدُ بْنُ مُسَرْهَدٍ حَدَّثَنَ...     44  \n",
       "4  حَدَّثَنَا عَمْرُو بْنُ مَرْزُوقٍ أَخْبَرَنَا ...      3  "
      ]
     },
     "execution_count": 13,
     "metadata": {},
     "output_type": "execute_result"
    }
   ],
   "source": [
    "hadits = pd.read_csv('Dataset/bert_result/model4/ns/abudaud.csv')\n",
    "hadits.head()"
   ]
  },
  {
   "cell_type": "code",
   "execution_count": 29,
   "id": "a01bbc07",
   "metadata": {},
   "outputs": [
    {
     "name": "stderr",
     "output_type": "stream",
     "text": [
      "100%|█████████████████████████████████████████████████████████████████████████████████| 77/77 [00:00<00:00, 245.29it/s]\n"
     ]
    }
   ],
   "source": [
    "for i in hadits_list:\n",
    "    new_loc = hadits_loc + str(i) + '.csv'\n",
    "    hadits = pd.read_csv(new_loc)\n",
    "    for j in tqdm(range(0, 77)):\n",
    "        temp = hadits[hadits['kitabId']== j]\n",
    "        save = hadits_save + str(i) + '/' + str(j) + '.csv'\n",
    "        temp.to_csv(save, index=False)\n"
   ]
  },
  {
   "cell_type": "code",
   "execution_count": 34,
   "id": "2fa376e0",
   "metadata": {},
   "outputs": [],
   "source": [
    "for i in hadits_list:\n",
    "    new_loc = hadits_loc + str(i) + '.csv'\n",
    "    hadits = pd.read_csv(new_loc)\n",
    "    result = hadits.groupby('label').describe()\n",
    "    file_output = hadits_save + str(i) + '.csv'\n",
    "    result.to_csv(file_output, index=False)"
   ]
  },
  {
   "cell_type": "code",
   "execution_count": null,
   "id": "682f738f",
   "metadata": {},
   "outputs": [],
   "source": []
  }
 ],
 "metadata": {
  "kernelspec": {
   "display_name": "Python 3 (ipykernel)",
   "language": "python",
   "name": "python3"
  },
  "language_info": {
   "codemirror_mode": {
    "name": "ipython",
    "version": 3
   },
   "file_extension": ".py",
   "mimetype": "text/x-python",
   "name": "python",
   "nbconvert_exporter": "python",
   "pygments_lexer": "ipython3",
   "version": "3.9.5"
  }
 },
 "nbformat": 4,
 "nbformat_minor": 5
}

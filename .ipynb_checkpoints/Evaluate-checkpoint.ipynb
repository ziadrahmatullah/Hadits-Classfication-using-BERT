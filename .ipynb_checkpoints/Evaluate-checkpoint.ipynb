{
 "cells": [
  {
   "cell_type": "code",
   "execution_count": 1,
   "id": "25b07a82",
   "metadata": {},
   "outputs": [],
   "source": [
    "import tqdm as notebook_tqdm\n",
    "from tqdm import tqdm\n",
    "\n",
    "# for data\n",
    "import json\n",
    "import pandas as pd\n",
    "import numpy as np\n",
    "import csv"
   ]
  },
  {
   "cell_type": "code",
   "execution_count": null,
   "id": "5135047a",
   "metadata": {},
   "outputs": [],
   "source": []
  },
  {
   "cell_type": "code",
   "execution_count": 11,
   "id": "631f6693",
   "metadata": {},
   "outputs": [
    {
     "data": {
      "text/html": [
       "<div>\n",
       "<style scoped>\n",
       "    .dataframe tbody tr th:only-of-type {\n",
       "        vertical-align: middle;\n",
       "    }\n",
       "\n",
       "    .dataframe tbody tr th {\n",
       "        vertical-align: top;\n",
       "    }\n",
       "\n",
       "    .dataframe thead th {\n",
       "        text-align: right;\n",
       "    }\n",
       "</style>\n",
       "<table border=\"1\" class=\"dataframe\">\n",
       "  <thead>\n",
       "    <tr style=\"text-align: right;\">\n",
       "      <th></th>\n",
       "      <th>haditsId</th>\n",
       "      <th>kitabId</th>\n",
       "      <th>indo</th>\n",
       "      <th>arab</th>\n",
       "      <th>label</th>\n",
       "    </tr>\n",
       "  </thead>\n",
       "  <tbody>\n",
       "    <tr>\n",
       "      <th>0</th>\n",
       "      <td>1</td>\n",
       "      <td>1</td>\n",
       "      <td>Dan ia merupakan atsar yang masyhur dari Rasul...</td>\n",
       "      <td>وَهُوَ الْأَثَرُ الْمَشْهُورُ\\nعَنْ رَسُولِ ال...</td>\n",
       "      <td>33</td>\n",
       "    </tr>\n",
       "    <tr>\n",
       "      <th>1</th>\n",
       "      <td>2</td>\n",
       "      <td>1</td>\n",
       "      <td>Dan telah menceritakan kepada kami [Abu Bakar ...</td>\n",
       "      <td>و حَدَّثَنَا أَبُو بَكْرِ بْنُ أَبِي شَيْبَةَ ...</td>\n",
       "      <td>33</td>\n",
       "    </tr>\n",
       "    <tr>\n",
       "      <th>2</th>\n",
       "      <td>3</td>\n",
       "      <td>1</td>\n",
       "      <td>Telah menceritakan kepada kami [Zuhair bin Har...</td>\n",
       "      <td>و حَدَّثَنِي زُهَيْرُ بْنُ حَرْبٍ حَدَّثَنَا إ...</td>\n",
       "      <td>2</td>\n",
       "    </tr>\n",
       "    <tr>\n",
       "      <th>3</th>\n",
       "      <td>4</td>\n",
       "      <td>1</td>\n",
       "      <td>Telah menceritakan kepada kami [Muhammad bin U...</td>\n",
       "      <td>و حَدَّثَنَا مُحَمَّدُ بْنُ عُبَيْدٍ الْغُبَرِ...</td>\n",
       "      <td>58</td>\n",
       "    </tr>\n",
       "    <tr>\n",
       "      <th>4</th>\n",
       "      <td>5</td>\n",
       "      <td>1</td>\n",
       "      <td>Telah menceritakan kepada kami [Muhammad bin A...</td>\n",
       "      <td>و حَدَّثَنَا مُحَمَّدُ بْنُ عَبْدِ اللَّهِ بْن...</td>\n",
       "      <td>58</td>\n",
       "    </tr>\n",
       "  </tbody>\n",
       "</table>\n",
       "</div>"
      ],
      "text/plain": [
       "   haditsId  kitabId                                               indo  \\\n",
       "0         1        1  Dan ia merupakan atsar yang masyhur dari Rasul...   \n",
       "1         2        1  Dan telah menceritakan kepada kami [Abu Bakar ...   \n",
       "2         3        1  Telah menceritakan kepada kami [Zuhair bin Har...   \n",
       "3         4        1  Telah menceritakan kepada kami [Muhammad bin U...   \n",
       "4         5        1  Telah menceritakan kepada kami [Muhammad bin A...   \n",
       "\n",
       "                                                arab  label  \n",
       "0  وَهُوَ الْأَثَرُ الْمَشْهُورُ\\nعَنْ رَسُولِ ال...     33  \n",
       "1  و حَدَّثَنَا أَبُو بَكْرِ بْنُ أَبِي شَيْبَةَ ...     33  \n",
       "2  و حَدَّثَنِي زُهَيْرُ بْنُ حَرْبٍ حَدَّثَنَا إ...      2  \n",
       "3  و حَدَّثَنَا مُحَمَّدُ بْنُ عُبَيْدٍ الْغُبَرِ...     58  \n",
       "4  و حَدَّثَنَا مُحَمَّدُ بْنُ عَبْدِ اللَّهِ بْن...     58  "
      ]
     },
     "execution_count": 11,
     "metadata": {},
     "output_type": "execute_result"
    }
   ],
   "source": [
    "muslim_bert_ns = pd.read_csv('bert_result/nr/muslim.csv')\n",
    "muslim_bert_ns.head()"
   ]
  },
  {
   "cell_type": "code",
   "execution_count": 15,
   "id": "37a3ce73",
   "metadata": {},
   "outputs": [
    {
     "data": {
      "text/html": [
       "<div>\n",
       "<style scoped>\n",
       "    .dataframe tbody tr th:only-of-type {\n",
       "        vertical-align: middle;\n",
       "    }\n",
       "\n",
       "    .dataframe tbody tr th {\n",
       "        vertical-align: top;\n",
       "    }\n",
       "\n",
       "    .dataframe thead th {\n",
       "        text-align: right;\n",
       "    }\n",
       "</style>\n",
       "<table border=\"1\" class=\"dataframe\">\n",
       "  <thead>\n",
       "    <tr style=\"text-align: right;\">\n",
       "      <th></th>\n",
       "      <th>haditsId</th>\n",
       "      <th>kitabId</th>\n",
       "      <th>indo</th>\n",
       "      <th>arab</th>\n",
       "      <th>label</th>\n",
       "    </tr>\n",
       "  </thead>\n",
       "  <tbody>\n",
       "    <tr>\n",
       "      <th>230</th>\n",
       "      <td>231</td>\n",
       "      <td>2</td>\n",
       "      <td>Telah menceritakan kepada kami [Abu ath-Thahir...</td>\n",
       "      <td>حَدَّثَنِي أَبُو الطَّاهِرِ أَحْمَدُ بْنُ عَمْ...</td>\n",
       "      <td>0</td>\n",
       "    </tr>\n",
       "    <tr>\n",
       "      <th>650</th>\n",
       "      <td>651</td>\n",
       "      <td>5</td>\n",
       "      <td>Telah menceritakan kepada kami [Abu Bakar bin ...</td>\n",
       "      <td>حَدَّثَنَا أَبُو بَكْرِ بْنُ أَبِي شَيْبَةَ وَ...</td>\n",
       "      <td>0</td>\n",
       "    </tr>\n",
       "    <tr>\n",
       "      <th>918</th>\n",
       "      <td>919</td>\n",
       "      <td>6</td>\n",
       "      <td>Telah menceritakan kepada kami [Muhammad bin H...</td>\n",
       "      <td>حَدَّثَنَا مُحَمَّدُ بْنُ حَاتِمٍ أَخْبَرَنَا ...</td>\n",
       "      <td>0</td>\n",
       "    </tr>\n",
       "    <tr>\n",
       "      <th>2048</th>\n",
       "      <td>2049</td>\n",
       "      <td>16</td>\n",
       "      <td>Dan Telah menceritakan kepada kami [Yahya bin ...</td>\n",
       "      <td>و حَدَّثَنَا يَحْيَى بْنُ يَحْيَى وَأَبُو بَكْ...</td>\n",
       "      <td>0</td>\n",
       "    </tr>\n",
       "    <tr>\n",
       "      <th>3321</th>\n",
       "      <td>3322</td>\n",
       "      <td>33</td>\n",
       "      <td>Telah menceritakan kepada kami [Ishaq bin Ibra...</td>\n",
       "      <td>حَدَّثَنَا إِسْحَقُ بْنُ إِبْرَاهِيمَ الْحَنْظ...</td>\n",
       "      <td>0</td>\n",
       "    </tr>\n",
       "    <tr>\n",
       "      <th>4185</th>\n",
       "      <td>4186</td>\n",
       "      <td>42</td>\n",
       "      <td>Telah menceritakan kepadaku [Abu Ja'far Muhamm...</td>\n",
       "      <td>حَدَّثَنِي أَبُو جَعْفَرٍ مُحَمَّدُ بْنُ الصَّ...</td>\n",
       "      <td>0</td>\n",
       "    </tr>\n",
       "    <tr>\n",
       "      <th>4303</th>\n",
       "      <td>4304</td>\n",
       "      <td>44</td>\n",
       "      <td>Dan telah menceritakan kepada kami [Abu Bakr b...</td>\n",
       "      <td>و حَدَّثَنَا أَبُو بَكْرِ بْنُ أَبِي شَيْبَةَ ...</td>\n",
       "      <td>0</td>\n",
       "    </tr>\n",
       "  </tbody>\n",
       "</table>\n",
       "</div>"
      ],
      "text/plain": [
       "      haditsId  kitabId                                               indo  \\\n",
       "230        231        2  Telah menceritakan kepada kami [Abu ath-Thahir...   \n",
       "650        651        5  Telah menceritakan kepada kami [Abu Bakar bin ...   \n",
       "918        919        6  Telah menceritakan kepada kami [Muhammad bin H...   \n",
       "2048      2049       16  Dan Telah menceritakan kepada kami [Yahya bin ...   \n",
       "3321      3322       33  Telah menceritakan kepada kami [Ishaq bin Ibra...   \n",
       "4185      4186       42  Telah menceritakan kepadaku [Abu Ja'far Muhamm...   \n",
       "4303      4304       44  Dan telah menceritakan kepada kami [Abu Bakr b...   \n",
       "\n",
       "                                                   arab  label  \n",
       "230   حَدَّثَنِي أَبُو الطَّاهِرِ أَحْمَدُ بْنُ عَمْ...      0  \n",
       "650   حَدَّثَنَا أَبُو بَكْرِ بْنُ أَبِي شَيْبَةَ وَ...      0  \n",
       "918   حَدَّثَنَا مُحَمَّدُ بْنُ حَاتِمٍ أَخْبَرَنَا ...      0  \n",
       "2048  و حَدَّثَنَا يَحْيَى بْنُ يَحْيَى وَأَبُو بَكْ...      0  \n",
       "3321  حَدَّثَنَا إِسْحَقُ بْنُ إِبْرَاهِيمَ الْحَنْظ...      0  \n",
       "4185  حَدَّثَنِي أَبُو جَعْفَرٍ مُحَمَّدُ بْنُ الصَّ...      0  \n",
       "4303  و حَدَّثَنَا أَبُو بَكْرِ بْنُ أَبِي شَيْبَةَ ...      0  "
      ]
     },
     "execution_count": 15,
     "metadata": {},
     "output_type": "execute_result"
    }
   ],
   "source": [
    "muslim_bert_ns2 = muslim_bert_ns[muslim_bert_ns['label']== 0]\n",
    "muslim_bert_ns2"
   ]
  },
  {
   "cell_type": "code",
   "execution_count": 16,
   "id": "913c36d8",
   "metadata": {},
   "outputs": [
    {
     "data": {
      "text/plain": [
       "2"
      ]
     },
     "execution_count": 16,
     "metadata": {},
     "output_type": "execute_result"
    }
   ],
   "source": [
    "count = 0\n",
    "for i in muslim_bert_ns2['indo']:\n",
    "    if i.find('wahyu') != -1:\n",
    "        count+=1\n",
    "count"
   ]
  },
  {
   "cell_type": "code",
   "execution_count": 13,
   "id": "d4cd8439",
   "metadata": {},
   "outputs": [
    {
     "data": {
      "text/plain": [
       "'Telah menceritakan kepada kami [Abu ath-Thahir Ahmad bin Amru bin Abdullah bin Amru bin Sarh] telah mengabarkan kepada kami [Ibnu Wahb] dia berkata, telah mengabarkan kepadaku [Yunus] dari [Ibnu Syihab] dia berkata, telah menceritakan kepada kami [Urwah bin az-Zubair] bahwa [Aisyah] isteri Nabi shallallahu \\'alaihi wasallam, telah mengabarkan kepadanya bahwa, dia berkata, \"Wahyu Rasulullah shallallahu \\'alaihi wasallam yang pertama kali terjadi adalah dalam bentuk mimpi yang benar dalam tidur beliau. Tidaklah beliau mendapati mimpi tersebut melainkan sebagaimana munculnya keheningan fajar subuh, kemudian beliau suka menyepi sendiri. Beliau biasanya menyepi di gua Hira\\'. Di sana beliau menghabiskan beberapa malam untuk beribadah kepada Allah sebelum kembali ke rumah. Untuk tujuan tersebut, beliau membawa sedikit perbekalan. (Setelah beberapa hari berada di sana) beliau pulang kepada Khadijah, mengambil perbekalan untuk beberapa malam. Keadaan ini terus berlarut, sehingga beliau dibawakan wahyu ketika beliau berada di gua Hira\\'. Wahyu tersebut disampaikan oleh Malaikat Jibril dengan berkata, \\'Bacalah wahai Muhammad! \\' Beliau bersabda: \"Aku tidak pandai membaca.\" Rasulullah bersabda: \"Lalu malaikat memegang dan memelukku erat-erat, ketika aku merasakan kepayahan ia pun melepasku. Kemudian dia berkata, \\'Bacalah wahai Muhammad! \\' Beliau bersabda: \\'Aku lalu menjawab, \\'Aku tidak bisa membaca\\'. Beliau melanjutkan: \\'Jibril kemudian memegang dan memelukku erat-erat lagi, hingga ketika aku merasakan kepayahan ia pun melepasnya kembali. Kemudian ia berkata, \\'Bacalah wahai Muhammad! \\' Beliau bersabda: \"Aku lalu menjawab: \\'Aku tidak pandai membaca.\\' Beliau melanjutkan: \\'Jibril kembali memegang dan memelukku erat-erat, sehingga ketika aku merasakan kepayahan, ia pun melepaskanku. Kemudian dia membaca firman Allah: \\'(Bacalah wahai Muhammad dengan nama Rabbmu yang menciptakan sekalian makhluk. Dia menciptakan manusia dari segumpal darah, bacalah, dan Rabbmu Yang Maha Pemurah yang mengajar manusia melalui pena. Dia mengajar manusia sesuatu yang tidak diketahui) \\' (Qs. Al \\'Alaq: 1-5). Setelah kejadian itu beliau pulang dalam keadaan ketakutan hingga menemui Khadijah, seraya beliau berkata: \\'Selimutilah aku! Selimutilah aku.\\' Lalu Khadijah memberi beliau selimut hingga hilang rasa gementar dari diri beliau. Beliau kemudian bersabda kepada Khadijah: \\'Wahai Khadijah! Apakah yang telah terjadi kepadaku? \\' Beliau pun menceritakan seluruh peristiwa yang telah terjadi. Beliau bersabda lagi: \\'Aku benar-benar khawatir pada diriku.\\' Khadijah terus menghibur beliau dengan berkata, \\'Janganlah begitu, bergembiralah! Demi Allah, Allah tidak akan menghinakanmu, selama-lamanya. Demi Allah! Sesungguhnya, kamu telah menyambung tali persaudaraan, berbicara jujur, memikul beban orang lain, suka mengusahakan sesuatu yang tidak ada, menjamu tamu dan sentiasa membela faktor-faktor kebenaran.\\' Khadijah beranjak seketika menemui Waraqah bin Naufal bin Asad bin Abdul Uzza, sepupu Khadijah. Dia pernah menjadi Nashrani pada zaman Jahiliyah. Dia suka menulis dengan tulisan Arab dan cukup banyak menulis kitab Injil dalam tulisan Arab. Ketika itu dia telah tua dan buta. Khadijah berkata kepadanya, \\'Paman! (Paman adalah panggilan yang biasa digunakan oleh bangsa Arab bagi sepupu dan sebagainya karena menghormati mereka atas dasar lebih tua) Dengarlah cerita anak saudaramu ini.\\' Waraqah bin Naufal berkata, \\'Wahai anak saudaraku! Apakah yang telah terjadi? \\' maka Rasulullah shallallahu \\'alaihi wasallam menceritakan semua peristiwa yang beliau telah alami. Mendengar peristiwa itu, Waraqah berkata, \\'Ini adalah undang-undang yang dahulu pernah diturunkan kepada Nabi Musa. Alangkah baik seandainya aku masih muda di saat-saat kamu dibangkitkan menjadi Nabi. Juga alangkah baik kiranya aku masih hidup di saat-saat kamu diusir oleh kaummu.\\' Lalu Rasulullah shallallahu \\'alaihi wasallam menegaskan: \\'Apakah mereka akan mengusirku? \\' Waraqah menjawab, \"Ya, tidaklah setiap Nabi yang bangkit membawa tugas sepertimu, melainkan pasti akan dimusuhi. Seandainya aku masih hidup di zamanmu, niscaya aku akan tetap menolong dan membelamu\\'.\" Dan telah menceritakan kepada kami [Muhammad bin Rafi\\'] telah menceritakan kepada kami [Abdurrazzaq] telah mengabarkan kepada kami [Ma\\'mar] dia berkata, [az-Zuhri] berkata, Dan telah mengabarkan kepada kami [Urwah] dari [Aisyah] bahwa dia berkata, \"Wahyu Rasulullah shallallahu \\'alaihi wasallam yang pertama kali terjadi adalah…lalu dia melansirkan hadits seperti hadits Yunus, hanya saja dia berkata, \"Demi Allah, Allah tidak akan membuatmu sedih selamanya.\" Dan dia berkata, \"Khadijah berjakah, \\'Wahai pamanku, dengarkan dari anak saudaramu ini\\'.\" Dan telah menceritakan kepada kami [Abdul Malik bin Syu\\'aib bin al-Laits] dia berkata, telah menceritakan kepada kami [bapakku] dari [kakekku] dia berkata, telah menceritakan kepada kami [Uqail bin Khalid] berkata [Ibnu Syihab] saya mendengar [Urwah bin az-Zubair] berkata, [Aisyah] isteri Nabi shallallahu \\'alaihi wasallam berkata, \"Lalu beliau kembali pada Khadijah dalam keadaan hatinya ketakutan, \" lalu menceritakan hadits seperti hadits Yunus dan Ma\\'mar. Hanya saja dia tidak menyebutkan awal dari hadits keduanya, \"Wahyu Rasulullah shallallahu \\'alaihi wasallam yang pertama kali terjadi adalah mimpi yang benar.\" Dan dia mengikuti perkataan Yunus, \"Demi Allah, Allah tidak akan menghinakanmu selamanya.\" Lalu dia menyebutkan perkataan Khadijah, \"Wahai pamanku, dengarkan dari anak saudaramu.\"'"
      ]
     },
     "execution_count": 13,
     "metadata": {},
     "output_type": "execute_result"
    }
   ],
   "source": [
    "muslim_bert_ns2['indo'][230]"
   ]
  },
  {
   "cell_type": "code",
   "execution_count": null,
   "id": "aa33c2d1",
   "metadata": {},
   "outputs": [],
   "source": []
  }
 ],
 "metadata": {
  "kernelspec": {
   "display_name": "Python 3 (ipykernel)",
   "language": "python",
   "name": "python3"
  },
  "language_info": {
   "codemirror_mode": {
    "name": "ipython",
    "version": 3
   },
   "file_extension": ".py",
   "mimetype": "text/x-python",
   "name": "python",
   "nbconvert_exporter": "python",
   "pygments_lexer": "ipython3",
   "version": "3.9.5"
  }
 },
 "nbformat": 4,
 "nbformat_minor": 5
}

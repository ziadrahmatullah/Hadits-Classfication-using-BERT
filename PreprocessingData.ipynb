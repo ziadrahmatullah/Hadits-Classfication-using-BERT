{
 "cells": [
  {
   "cell_type": "code",
   "execution_count": 9,
   "id": "9047f741",
   "metadata": {},
   "outputs": [],
   "source": [
    "import tqdm as notebook_tqdm\n",
    "from tqdm import tqdm\n",
    "\n",
    "# for data\n",
    "import json\n",
    "import pandas as pd\n",
    "import numpy as np\n",
    "import csv\n",
    "\n",
    "# for processing\n",
    "import re\n",
    "import numpy as np\n",
    "from sklearn.model_selection import train_test_split\n",
    "import math\n",
    "\n",
    "pd.options.mode.chained_assignment = None  # default='warn'"
   ]
  },
  {
   "cell_type": "markdown",
   "id": "35c3e9e5",
   "metadata": {},
   "source": [
    "# Reading Dataset"
   ]
  },
  {
   "cell_type": "code",
   "execution_count": 10,
   "id": "ff038357",
   "metadata": {},
   "outputs": [],
   "source": [
    "def reading_data(data_file):\n",
    "    # Dari Json file untuk training data\n",
    "    data_file = pd.read_json(data_file)\n",
    "    data_file = data_file.sort_values(by=['haditsId'])\n",
    "    data_file = data_file.reset_index()\n",
    "    data_file = data_file[[\"kitabId\",\"indo\"]]\n",
    "    return data_file"
   ]
  },
  {
   "cell_type": "code",
   "execution_count": 12,
   "id": "a488cb74",
   "metadata": {},
   "outputs": [
    {
     "data": {
      "text/html": [
       "<div>\n",
       "<style scoped>\n",
       "    .dataframe tbody tr th:only-of-type {\n",
       "        vertical-align: middle;\n",
       "    }\n",
       "\n",
       "    .dataframe tbody tr th {\n",
       "        vertical-align: top;\n",
       "    }\n",
       "\n",
       "    .dataframe thead th {\n",
       "        text-align: right;\n",
       "    }\n",
       "</style>\n",
       "<table border=\"1\" class=\"dataframe\">\n",
       "  <thead>\n",
       "    <tr style=\"text-align: right;\">\n",
       "      <th></th>\n",
       "      <th>kitabId</th>\n",
       "      <th>indo</th>\n",
       "    </tr>\n",
       "  </thead>\n",
       "  <tbody>\n",
       "    <tr>\n",
       "      <th>0</th>\n",
       "      <td>1</td>\n",
       "      <td>Telah menceritakan kepada kami [Al Humaidi Abd...</td>\n",
       "    </tr>\n",
       "    <tr>\n",
       "      <th>1</th>\n",
       "      <td>1</td>\n",
       "      <td>Telah menceritakan kepada kami [Abdullah bin Y...</td>\n",
       "    </tr>\n",
       "    <tr>\n",
       "      <th>2</th>\n",
       "      <td>1</td>\n",
       "      <td>Telah menceritakan kepada kami [Yahya bin Buka...</td>\n",
       "    </tr>\n",
       "    <tr>\n",
       "      <th>3</th>\n",
       "      <td>1</td>\n",
       "      <td>Telah menceritakan kepada kami [Musa bin Isma'...</td>\n",
       "    </tr>\n",
       "    <tr>\n",
       "      <th>4</th>\n",
       "      <td>1</td>\n",
       "      <td>Telah menceritakan kepada kami [Abdan] dia ber...</td>\n",
       "    </tr>\n",
       "  </tbody>\n",
       "</table>\n",
       "</div>"
      ],
      "text/plain": [
       "   kitabId                                               indo\n",
       "0        1  Telah menceritakan kepada kami [Al Humaidi Abd...\n",
       "1        1  Telah menceritakan kepada kami [Abdullah bin Y...\n",
       "2        1  Telah menceritakan kepada kami [Yahya bin Buka...\n",
       "3        1  Telah menceritakan kepada kami [Musa bin Isma'...\n",
       "4        1  Telah menceritakan kepada kami [Abdan] dia ber..."
      ]
     },
     "execution_count": 12,
     "metadata": {},
     "output_type": "execute_result"
    }
   ],
   "source": [
    "bukhari = reading_data('Dataset/RawData/bukhari.json')\n",
    "bukhari.head()"
   ]
  },
  {
   "cell_type": "code",
   "execution_count": 5,
   "id": "3b701038",
   "metadata": {},
   "outputs": [],
   "source": [
    "def reading_data_result(data_file):\n",
    "    # Membaca data untuk data hasil\n",
    "    data_file = pd.read_json(data_file)\n",
    "    data_file = data_file.sort_values(by=['haditsId'])\n",
    "    data_file = data_file.reset_index()\n",
    "    data_file = data_file[[\"haditsId\" , \"kitabId\",\"indo\", \"arab\" ]]\n",
    "    return data_file"
   ]
  },
  {
   "cell_type": "code",
   "execution_count": 7,
   "id": "79dd471e",
   "metadata": {},
   "outputs": [
    {
     "data": {
      "text/html": [
       "<div>\n",
       "<style scoped>\n",
       "    .dataframe tbody tr th:only-of-type {\n",
       "        vertical-align: middle;\n",
       "    }\n",
       "\n",
       "    .dataframe tbody tr th {\n",
       "        vertical-align: top;\n",
       "    }\n",
       "\n",
       "    .dataframe thead th {\n",
       "        text-align: right;\n",
       "    }\n",
       "</style>\n",
       "<table border=\"1\" class=\"dataframe\">\n",
       "  <thead>\n",
       "    <tr style=\"text-align: right;\">\n",
       "      <th></th>\n",
       "      <th>haditsId</th>\n",
       "      <th>kitabId</th>\n",
       "      <th>indo</th>\n",
       "      <th>arab</th>\n",
       "    </tr>\n",
       "  </thead>\n",
       "  <tbody>\n",
       "    <tr>\n",
       "      <th>0</th>\n",
       "      <td>1</td>\n",
       "      <td>1</td>\n",
       "      <td>Telah menceritakan kepada kami [Al Humaidi Abd...</td>\n",
       "      <td>حَدَّثَنَا الْحُمَيْدِيُّ عَبْدُ اللَّهِ بْنُ ...</td>\n",
       "    </tr>\n",
       "    <tr>\n",
       "      <th>1</th>\n",
       "      <td>2</td>\n",
       "      <td>1</td>\n",
       "      <td>Telah menceritakan kepada kami [Abdullah bin Y...</td>\n",
       "      <td>حَدَّثَنَا عَبْدُ اللَّهِ بْنُ يُوسُفَ قَالَ أ...</td>\n",
       "    </tr>\n",
       "    <tr>\n",
       "      <th>2</th>\n",
       "      <td>3</td>\n",
       "      <td>1</td>\n",
       "      <td>Telah menceritakan kepada kami [Yahya bin Buka...</td>\n",
       "      <td>حَدَّثَنَا يَحْيَى بْنُ بُكَيْرٍ قَالَ حَدَّثَ...</td>\n",
       "    </tr>\n",
       "    <tr>\n",
       "      <th>3</th>\n",
       "      <td>4</td>\n",
       "      <td>1</td>\n",
       "      <td>Telah menceritakan kepada kami [Musa bin Isma'...</td>\n",
       "      <td>حَدَّثَنَا مُوسَى بْنُ إِسْمَاعِيلَ قَالَ حَدّ...</td>\n",
       "    </tr>\n",
       "    <tr>\n",
       "      <th>4</th>\n",
       "      <td>5</td>\n",
       "      <td>1</td>\n",
       "      <td>Telah menceritakan kepada kami [Abdan] dia ber...</td>\n",
       "      <td>حَدَّثَنَا عَبْدَانُ قَالَ أَخْبَرَنَا عَبْدُ ...</td>\n",
       "    </tr>\n",
       "  </tbody>\n",
       "</table>\n",
       "</div>"
      ],
      "text/plain": [
       "   haditsId  kitabId                                               indo  \\\n",
       "0         1        1  Telah menceritakan kepada kami [Al Humaidi Abd...   \n",
       "1         2        1  Telah menceritakan kepada kami [Abdullah bin Y...   \n",
       "2         3        1  Telah menceritakan kepada kami [Yahya bin Buka...   \n",
       "3         4        1  Telah menceritakan kepada kami [Musa bin Isma'...   \n",
       "4         5        1  Telah menceritakan kepada kami [Abdan] dia ber...   \n",
       "\n",
       "                                                arab  \n",
       "0  حَدَّثَنَا الْحُمَيْدِيُّ عَبْدُ اللَّهِ بْنُ ...  \n",
       "1  حَدَّثَنَا عَبْدُ اللَّهِ بْنُ يُوسُفَ قَالَ أ...  \n",
       "2  حَدَّثَنَا يَحْيَى بْنُ بُكَيْرٍ قَالَ حَدَّثَ...  \n",
       "3  حَدَّثَنَا مُوسَى بْنُ إِسْمَاعِيلَ قَالَ حَدّ...  \n",
       "4  حَدَّثَنَا عَبْدَانُ قَالَ أَخْبَرَنَا عَبْدُ ...  "
      ]
     },
     "execution_count": 7,
     "metadata": {},
     "output_type": "execute_result"
    }
   ],
   "source": [
    "bukhari = reading_data_result('Dataset/RawData/bukhari.json')\n",
    "bukhari.head()"
   ]
  },
  {
   "cell_type": "code",
   "execution_count": 8,
   "id": "7f52eb8c",
   "metadata": {},
   "outputs": [],
   "source": [
    "bukhari.to_csv('bukhari.csv', index= False)"
   ]
  },
  {
   "cell_type": "markdown",
   "id": "2f8730dc",
   "metadata": {},
   "source": [
    "# Preprocessing"
   ]
  },
  {
   "cell_type": "markdown",
   "id": "50f84d15",
   "metadata": {},
   "source": [
    "## Remove Sanad"
   ]
  },
  {
   "cell_type": "code",
   "execution_count": 13,
   "id": "6e190cc4",
   "metadata": {},
   "outputs": [],
   "source": [
    "def string_sanad(hadits):\n",
    "    # menghapus kalimat yang memiliki sanad\n",
    "    # Array to String\n",
    "    result = \"\"\n",
    "    for kata in hadits:\n",
    "        if kata.find(\"[\")==-1:\n",
    "            result += kata\n",
    "    return result\n",
    "\n",
    "def only_sanad(hadits):\n",
    "    # hanya Menghapus nama Sanad\n",
    "    # Array to String\n",
    "    result = \"\"\n",
    "    for kata in hadits:        \n",
    "        temp = re.sub(r\"(?<=\\[)(.*?)(?=\\])\",\"\",kata)\n",
    "        result += temp\n",
    "    return result\n",
    "\n",
    "def only_sanad2(hadits):\n",
    "    # hanya Menghapus nama Sanad\n",
    "    # string to String\n",
    "    result = re.sub(r\"(?<=\\[)(.*?)(?=\\])\",\"\",hadits)\n",
    "    return result\n",
    "\n",
    "def removing_sanad(hadits_book):\n",
    "    result = hadits_book.copy()\n",
    "    for i in tqdm(range(0, len(hadits_book))):\n",
    "        hadits_temp1 = []\n",
    "        hadits_temp2 = \"\"\n",
    "        \n",
    "        if hadits_book['indo'][i].find('\"\"') != -1:\n",
    "            # ada beberapa hadits dengan tanda petik ada 2 kali\n",
    "            hadits_temp1 = re.findall(r'(?<=\\\")\"(.*?)\"(?=\\\")',hadits_book['indo'][i])\n",
    "            for hadits in hadits_temp1:\n",
    "                hadits_temp2 += hadits\n",
    "            # jika hadits tidak ada dalam tanda petik, pembagian dengan bantuan tanda '.'\n",
    "            if hadits_temp2 == \"\" or hadits_temp2 == \" \":\n",
    "                hadits_temp1 = re.split('\"\"|\\.|,',hadits_book['indo'][i])\n",
    "                # Menemukan bagian hadits yang tidak tercantum nama sanad pada \"[]\"\n",
    "                hadits_temp2 = string_sanad(hadits_temp1)   \n",
    "                if hadits_temp2 == \"\" or hadits_temp2 == \" \":\n",
    "                    hadits_temp2 = only_sanad2(hadits_book['indo'][i])\n",
    "                                \n",
    "        elif hadits_book['indo'][i].find('\"') != -1:\n",
    "            # Mengambil hadits yang memiliki tanda petik\n",
    "            hadits_temp1 = re.findall(r\"(?<=\\\")(.*?)(?=\\\")\",hadits_book['indo'][i])\n",
    "            for hadits in hadits_temp1:\n",
    "                hadits_temp2 += hadits\n",
    "            # jika hadits tidak ada dalam tanda petik, pembagian dengan bantuan tanda '.' dan ','\n",
    "            if hadits_temp2 == \"\" or hadits_temp2 == \" \":\n",
    "                hadits_temp1 = re.split('\"|\\.|,',hadits_book['indo'][i])\n",
    "                # Menemukan bagian hadits yang tidak tercantum nama sanad pada \"[]\"\n",
    "                hadits_temp2 = string_sanad(hadits_temp1)   \n",
    "                if hadits_temp2 == \"\" or hadits_temp2 == \" \":\n",
    "                    hadits_temp2 = only_sanad2(hadits_book['indo'][i])\n",
    "                \n",
    "        elif hadits_book['indo'][i].find(',') != -1:\n",
    "            # Membagi hadits dengan tanda ','\n",
    "            hadits_temp1 = hadits_book['indo'][i].split(',')\n",
    "            # Menemukan bagian hadits yang tidak tercantum nama sanad pada \"[]\"\n",
    "            hadits_temp2 = string_sanad(hadits_temp1)\n",
    "            # Jika setiap bagian hadis memiliki nama sanad\n",
    "            if hadits_temp2 == \"\" or hadits_temp2 == \" \":\n",
    "                hadits_temp2 = only_sanad(hadits_temp1)\n",
    "                    \n",
    "        else: # tidak ada tanda ',' dan '\"'\n",
    "             # hanya hilangkan nama sanad\n",
    "            hadits2 = only_sanad(hadits_book['indo'][i])\n",
    "            hadits_temp2 += hadits2       \n",
    "            \n",
    "        # Hilangkan Tanda baca\n",
    "        hadits_temp2 = re.sub(r\"[^\\w\\s]\",\"\",hadits_temp2)\n",
    "        result['indo'][i] = hadits_temp2\n",
    "    return result"
   ]
  },
  {
   "cell_type": "code",
   "execution_count": 19,
   "id": "977edd5b",
   "metadata": {},
   "outputs": [
    {
     "name": "stderr",
     "output_type": "stream",
     "text": [
      "100%|████████████████████████████████████████████████████████████████████████████| 7008/7008 [00:02<00:00, 3357.94it/s]\n",
      "100%|████████████████████████████████████████████████████████████████████████████| 7008/7008 [00:01<00:00, 3713.06it/s]\n"
     ]
    }
   ],
   "source": [
    "# bukhari = reading_data('hadits/data/bukhari.json')\n",
    "remove_sanad = removing_sanad(bukhari)\n",
    "remove_sanad2 = removing_sanad2(bukhari)\n",
    "# remove_sanad.to_csv(r'NoSanad/bukhari.csv', index=False)"
   ]
  },
  {
   "cell_type": "code",
   "execution_count": 17,
   "id": "2e8f7baa",
   "metadata": {},
   "outputs": [
    {
     "data": {
      "text/plain": [
       "'Telah menceritakan kepada kami [Abdullah bin Yusuf] berkata, telah mengabarkan kepada kami [Malik] dari [Hisyam bin \\'Urwah] dari [bapaknya] dari [Aisyah] Ibu Kaum Mu\\'minin, bahwa Al Harits bin Hisyam bertanya kepada Rasulullah shallallahu \\'alaihi wasallam: \"Wahai Rasulullah, bagaimana caranya wahyu turun kepada engkau?\" Maka Rasulullah shallallahu \\'alaihi wasallam menjawab: \"Terkadang datang kepadaku seperti suara gemerincing lonceng dan cara ini yang paling berat buatku, lalu terhenti sehingga aku dapat mengerti apa yang disampaikan. Dan terkadang datang Malaikat menyerupai seorang laki-laki lalu berbicara kepadaku maka aku ikuti apa yang diucapkannya\". Aisyah berkata: \"Sungguh aku pernah melihat turunnya wahyu kepada Beliau shallallahu \\'alaihi wasallam pada suatu hari yang sangat dingin lalu terhenti, dan aku lihat dahi Beliau mengucurkan keringat.\" '"
      ]
     },
     "execution_count": 17,
     "metadata": {},
     "output_type": "execute_result"
    }
   ],
   "source": [
    "bukhari['indo'][1]"
   ]
  },
  {
   "cell_type": "code",
   "execution_count": 20,
   "id": "6a03bb7d",
   "metadata": {},
   "outputs": [
    {
     "data": {
      "text/plain": [
       "'Telah menceritakan kepada kami  berkata telah mengabarkan kepada kami  dari  dari  dari  Ibu Kaum Muminin bahwa Al Harits bin Hisyam bertanya kepada Rasulullah shallallahu alaihi wasallam Wahai Rasulullah bagaimana caranya wahyu turun kepada engkau Maka Rasulullah shallallahu alaihi wasallam menjawab Terkadang datang kepadaku seperti suara gemerincing lonceng dan cara ini yang paling berat buatku lalu terhenti sehingga aku dapat mengerti apa yang disampaikan Dan terkadang datang Malaikat menyerupai seorang lakilaki lalu berbicara kepadaku maka aku ikuti apa yang diucapkannya Aisyah berkata Sungguh aku pernah melihat turunnya wahyu kepada Beliau shallallahu alaihi wasallam pada suatu hari yang sangat dingin lalu terhenti dan aku lihat dahi Beliau mengucurkan keringat '"
      ]
     },
     "execution_count": 20,
     "metadata": {},
     "output_type": "execute_result"
    }
   ],
   "source": [
    "remove_sanad2['indo'][1]"
   ]
  },
  {
   "cell_type": "code",
   "execution_count": 492,
   "id": "c5f51aa3",
   "metadata": {},
   "outputs": [
    {
     "data": {
      "text/html": [
       "<div>\n",
       "<style scoped>\n",
       "    .dataframe tbody tr th:only-of-type {\n",
       "        vertical-align: middle;\n",
       "    }\n",
       "\n",
       "    .dataframe tbody tr th {\n",
       "        vertical-align: top;\n",
       "    }\n",
       "\n",
       "    .dataframe thead th {\n",
       "        text-align: right;\n",
       "    }\n",
       "</style>\n",
       "<table border=\"1\" class=\"dataframe\">\n",
       "  <thead>\n",
       "    <tr style=\"text-align: right;\">\n",
       "      <th></th>\n",
       "      <th>kitabId</th>\n",
       "      <th>indo</th>\n",
       "    </tr>\n",
       "  </thead>\n",
       "  <tbody>\n",
       "    <tr>\n",
       "      <th>0</th>\n",
       "      <td>1</td>\n",
       "      <td>Semua perbuatan tergantung niatnya dan balasan...</td>\n",
       "    </tr>\n",
       "    <tr>\n",
       "      <th>1</th>\n",
       "      <td>1</td>\n",
       "      <td>Wahai Rasulullah bagaimana caranya wahyu turun...</td>\n",
       "    </tr>\n",
       "    <tr>\n",
       "      <th>2</th>\n",
       "      <td>1</td>\n",
       "      <td>Permulaaan wahyu yang datang kepada Rasulullah...</td>\n",
       "    </tr>\n",
       "    <tr>\n",
       "      <th>3</th>\n",
       "      <td>1</td>\n",
       "      <td>Berkata Ibnu Abbas Rasulullah shallallahu ala...</td>\n",
       "    </tr>\n",
       "    <tr>\n",
       "      <th>4</th>\n",
       "      <td>1</td>\n",
       "      <td>bahwa Rasulullah shallallahu alaihi wasallam ...</td>\n",
       "    </tr>\n",
       "  </tbody>\n",
       "</table>\n",
       "</div>"
      ],
      "text/plain": [
       "   kitabId                                               indo\n",
       "0        1  Semua perbuatan tergantung niatnya dan balasan...\n",
       "1        1  Wahai Rasulullah bagaimana caranya wahyu turun...\n",
       "2        1  Permulaaan wahyu yang datang kepada Rasulullah...\n",
       "3        1   Berkata Ibnu Abbas Rasulullah shallallahu ala...\n",
       "4        1   bahwa Rasulullah shallallahu alaihi wasallam ..."
      ]
     },
     "execution_count": 492,
     "metadata": {},
     "output_type": "execute_result"
    }
   ],
   "source": [
    "remove_sanad.head()"
   ]
  },
  {
   "cell_type": "code",
   "execution_count": 18,
   "id": "31750082",
   "metadata": {},
   "outputs": [],
   "source": [
    "def removing_sanad2(hadits_book):\n",
    "    # Hanya Menghapus nama Perawi\n",
    "    result = hadits_book.copy()\n",
    "    for i in tqdm(range(0, len(hadits_book))):\n",
    "        hadits_temp1 = \"\"\n",
    "        hadits_temp1 = only_sanad2(hadits_book['indo'][i])\n",
    "        hadits_temp1 = re.sub(r\"[^\\w\\s]\",\"\",hadits_temp1)\n",
    "        result['indo'][i] = hadits_temp1\n",
    "    return result"
   ]
  },
  {
   "cell_type": "code",
   "execution_count": 496,
   "id": "c13a719b",
   "metadata": {},
   "outputs": [
    {
     "name": "stderr",
     "output_type": "stream",
     "text": [
      "100%|████████████████████████████████████████████████████████████████████████████| 7008/7008 [00:01<00:00, 3747.06it/s]\n"
     ]
    }
   ],
   "source": [
    "bukhari = reading_data('hadits/data/bukhari.json')\n",
    "remove_sanad2 = removing_sanad2(bukhari)\n",
    "remove_sanad2.to_csv(r'NoSanad_name/bukhari.csv', index=False)"
   ]
  },
  {
   "cell_type": "code",
   "execution_count": 497,
   "id": "684c2a44",
   "metadata": {},
   "outputs": [
    {
     "data": {
      "text/html": [
       "<div>\n",
       "<style scoped>\n",
       "    .dataframe tbody tr th:only-of-type {\n",
       "        vertical-align: middle;\n",
       "    }\n",
       "\n",
       "    .dataframe tbody tr th {\n",
       "        vertical-align: top;\n",
       "    }\n",
       "\n",
       "    .dataframe thead th {\n",
       "        text-align: right;\n",
       "    }\n",
       "</style>\n",
       "<table border=\"1\" class=\"dataframe\">\n",
       "  <thead>\n",
       "    <tr style=\"text-align: right;\">\n",
       "      <th></th>\n",
       "      <th>kitabId</th>\n",
       "      <th>indo</th>\n",
       "    </tr>\n",
       "  </thead>\n",
       "  <tbody>\n",
       "    <tr>\n",
       "      <th>0</th>\n",
       "      <td>1</td>\n",
       "      <td>Telah menceritakan kepada kami  dia berkata Te...</td>\n",
       "    </tr>\n",
       "    <tr>\n",
       "      <th>1</th>\n",
       "      <td>1</td>\n",
       "      <td>Telah menceritakan kepada kami  berkata telah ...</td>\n",
       "    </tr>\n",
       "    <tr>\n",
       "      <th>2</th>\n",
       "      <td>1</td>\n",
       "      <td>Telah menceritakan kepada kami  berkata Telah ...</td>\n",
       "    </tr>\n",
       "    <tr>\n",
       "      <th>3</th>\n",
       "      <td>1</td>\n",
       "      <td>Telah menceritakan kepada kami  dia berkata Te...</td>\n",
       "    </tr>\n",
       "    <tr>\n",
       "      <th>4</th>\n",
       "      <td>1</td>\n",
       "      <td>Telah menceritakan kepada kami  dia berkata te...</td>\n",
       "    </tr>\n",
       "  </tbody>\n",
       "</table>\n",
       "</div>"
      ],
      "text/plain": [
       "   kitabId                                               indo\n",
       "0        1  Telah menceritakan kepada kami  dia berkata Te...\n",
       "1        1  Telah menceritakan kepada kami  berkata telah ...\n",
       "2        1  Telah menceritakan kepada kami  berkata Telah ...\n",
       "3        1  Telah menceritakan kepada kami  dia berkata Te...\n",
       "4        1  Telah menceritakan kepada kami  dia berkata te..."
      ]
     },
     "execution_count": 497,
     "metadata": {},
     "output_type": "execute_result"
    }
   ],
   "source": [
    "remove_sanad2.head()"
   ]
  },
  {
   "cell_type": "code",
   "execution_count": 21,
   "id": "ff982bbd",
   "metadata": {},
   "outputs": [],
   "source": [
    "# Melakukan random under sampling dan duplicate oversampling\n",
    "def undersampling_oversampling(hadits):\n",
    "    # Mencari rata2 jml hadits/ kelas\n",
    "    counter = len(hadits) / hadits['kitabId'][len(hadits)-1]\n",
    "    counter = round(counter)\n",
    "    \n",
    "    # Deskripsi dataset\n",
    "    desc = hadits.groupby('kitabId').describe()\n",
    "    \n",
    "    # Under_Sampling\n",
    "    hadits_under = pd.DataFrame()\n",
    "    for i in tqdm(range(1, len(desc)+1),  desc=\"Processing Undersampling\"):\n",
    "        class_temp = hadits[hadits['kitabId']== i]\n",
    "        if desc['indo']['count'][i] > counter:        \n",
    "            class_temp = class_temp.sample(counter)\n",
    "            hadits_under = pd.concat([hadits_under, class_temp], axis=0)\n",
    "        else:\n",
    "            hadits_under = pd.concat([hadits_under, class_temp], axis=0)\n",
    "        \n",
    "    # Over_Sampling\n",
    "    hadits_over = pd.DataFrame()\n",
    "    for i in tqdm(range(1, len(desc)+1),  desc=\"Processing Oversampling\"):\n",
    "        class_temp = hadits_under[hadits_under['kitabId']== i]\n",
    "        if desc['indo']['count'][i] < counter:\n",
    "            hitung = math.ceil(counter/len(class_temp))\n",
    "            class_temp = pd.concat([class_temp]*hitung, ignore_index=True)\n",
    "            class_temp = class_temp.truncate(after=(counter-1))\n",
    "            hadits_over= pd.concat([hadits_over, class_temp], axis=0)\n",
    "        else:\n",
    "            hadits_over = pd.concat([hadits_over, class_temp], axis=0)\n",
    "    hadits_over = hadits_over.reset_index(drop=True)\n",
    "    return hadits_over"
   ]
  },
  {
   "cell_type": "code",
   "execution_count": 22,
   "id": "e0652e0d",
   "metadata": {},
   "outputs": [],
   "source": [
    "# Melakukan structured under sampling dan duplicate oversampling\n",
    "def undersampling_oversampling_sort(hadits):\n",
    "    # Mencari rata2 jml hadits/ kelas\n",
    "    counter = len(hadits) / hadits['kitabId'][len(hadits)-1]\n",
    "    counter = round(counter)\n",
    "    \n",
    "    # Deskripsi dataset\n",
    "    desc = hadits.groupby('kitabId').describe()\n",
    "    \n",
    "    # Under_Sampling\n",
    "    hadits_under = pd.DataFrame()\n",
    "    for i in tqdm(range(1, len(desc)+1),  desc=\"Processing Undersampling\"):\n",
    "        class_temp = hadits[hadits['kitabId']== i]\n",
    "        if desc['indo']['count'][i] > counter:        \n",
    "            s = class_temp.indo.str.len().sort_values(ascending = False).index\n",
    "            class_temp = class_temp.reindex(s)\n",
    "            class_temp = class_temp.reset_index(drop=True)\n",
    "            class_temp = class_temp.truncate(after=(counter-1))\n",
    "            hadits_under = pd.concat([hadits_under, class_temp], axis=0)\n",
    "        else:\n",
    "            hadits_under = pd.concat([hadits_under, class_temp], axis=0)\n",
    "        \n",
    "    # Over_Sampling\n",
    "    hadits_over = pd.DataFrame()\n",
    "    for i in tqdm(range(1, len(desc)+1),  desc=\"Processing Oversampling\"):\n",
    "        class_temp = hadits_under[hadits_under['kitabId']== i]\n",
    "        if desc['indo']['count'][i] < counter:\n",
    "            hitung = math.ceil(counter/len(class_temp))\n",
    "            class_temp = pd.concat([class_temp]*hitung, ignore_index=True)\n",
    "            class_temp = class_temp.truncate(after=(counter-1))\n",
    "            hadits_over= pd.concat([hadits_over, class_temp], axis=0)\n",
    "        else:\n",
    "            hadits_over = pd.concat([hadits_over, class_temp], axis=0)\n",
    "    hadits_over = hadits_over.reset_index(drop=True)\n",
    "    return hadits_over"
   ]
  },
  {
   "cell_type": "code",
   "execution_count": 499,
   "id": "c80ba1e7",
   "metadata": {},
   "outputs": [],
   "source": [
    "# Untuk split data, dan save data\n",
    "def trainTestSplit_Bert(data, file_output_train, file_output_test, file_output_valid):\n",
    "    data.rename(columns = {'kitabId':'label', 'indo': 'hadits'}, inplace = True)\n",
    "    train, rem = train_test_split(data, test_size=0.2, shuffle=True, stratify= data.label.values)\n",
    "    valid, test = train_test_split(rem, test_size=0.5, shuffle=True)\n",
    "    train.to_csv(file_output_train, index=False)\n",
    "    test.to_csv(file_output_test, index=False)\n",
    "    valid.to_csv(file_output_valid, index=False)"
   ]
  },
  {
   "cell_type": "code",
   "execution_count": 28,
   "id": "56dc5c93",
   "metadata": {},
   "outputs": [
    {
     "name": "stderr",
     "output_type": "stream",
     "text": [
      "Processing Undersampling: 100%|███████████████████████████████████████████████████████| 77/77 [00:00<00:00, 772.06it/s]\n",
      "Processing Oversampling: 100%|████████████████████████████████████████████████████████| 77/77 [00:00<00:00, 695.85it/s]\n"
     ]
    }
   ],
   "source": [
    "bukhari2 = undersampling_oversampling_sort(remove_sanad)"
   ]
  },
  {
   "cell_type": "code",
   "execution_count": 24,
   "id": "5f5f48a5",
   "metadata": {},
   "outputs": [],
   "source": [
    "bukhari2.to_csv(r'svm_data/bukhari_ns.csv', index=False)"
   ]
  },
  {
   "cell_type": "code",
   "execution_count": 476,
   "id": "73c98044",
   "metadata": {},
   "outputs": [],
   "source": [
    "trainTestSplit_Bert(bukhari2, 'Bert_data/ns/bukhari_train.csv', 'Bert_data/ns/bukhari_test.csv', 'Bert_data/ns/bukhari_valid.csv' )"
   ]
  },
  {
   "cell_type": "code",
   "execution_count": 473,
   "id": "8e8e22a5",
   "metadata": {},
   "outputs": [
    {
     "data": {
      "text/plain": [
       "7007"
      ]
     },
     "execution_count": 473,
     "metadata": {},
     "output_type": "execute_result"
    }
   ],
   "source": [
    "len(bukhari2)"
   ]
  },
  {
   "cell_type": "code",
   "execution_count": 27,
   "id": "6461dc48",
   "metadata": {},
   "outputs": [
    {
     "data": {
      "text/html": [
       "<div>\n",
       "<style scoped>\n",
       "    .dataframe tbody tr th:only-of-type {\n",
       "        vertical-align: middle;\n",
       "    }\n",
       "\n",
       "    .dataframe tbody tr th {\n",
       "        vertical-align: top;\n",
       "    }\n",
       "\n",
       "    .dataframe thead tr th {\n",
       "        text-align: left;\n",
       "    }\n",
       "\n",
       "    .dataframe thead tr:last-of-type th {\n",
       "        text-align: right;\n",
       "    }\n",
       "</style>\n",
       "<table border=\"1\" class=\"dataframe\">\n",
       "  <thead>\n",
       "    <tr>\n",
       "      <th></th>\n",
       "      <th colspan=\"4\" halign=\"left\">indo</th>\n",
       "    </tr>\n",
       "    <tr>\n",
       "      <th></th>\n",
       "      <th>count</th>\n",
       "      <th>unique</th>\n",
       "      <th>top</th>\n",
       "      <th>freq</th>\n",
       "    </tr>\n",
       "    <tr>\n",
       "      <th>kitabId</th>\n",
       "      <th></th>\n",
       "      <th></th>\n",
       "      <th></th>\n",
       "      <th></th>\n",
       "    </tr>\n",
       "  </thead>\n",
       "  <tbody>\n",
       "    <tr>\n",
       "      <th>1</th>\n",
       "      <td>6</td>\n",
       "      <td>6</td>\n",
       "      <td>Semua perbuatan tergantung niatnya dan balasan...</td>\n",
       "      <td>1</td>\n",
       "    </tr>\n",
       "    <tr>\n",
       "      <th>2</th>\n",
       "      <td>50</td>\n",
       "      <td>50</td>\n",
       "      <td>Islam dibangun diatas lima landasan persaksian...</td>\n",
       "      <td>1</td>\n",
       "    </tr>\n",
       "    <tr>\n",
       "      <th>3</th>\n",
       "      <td>75</td>\n",
       "      <td>73</td>\n",
       "      <td>celakalah bagi tumittumit yang tidak basah aka...</td>\n",
       "      <td>2</td>\n",
       "    </tr>\n",
       "    <tr>\n",
       "      <th>4</th>\n",
       "      <td>108</td>\n",
       "      <td>108</td>\n",
       "      <td>Rasulullah shallallahu alaihi wasallam bersabd...</td>\n",
       "      <td>1</td>\n",
       "    </tr>\n",
       "    <tr>\n",
       "      <th>5</th>\n",
       "      <td>45</td>\n",
       "      <td>45</td>\n",
       "      <td>bahwa jika Nabi shallallahu alaihi wasallam m...</td>\n",
       "      <td>1</td>\n",
       "    </tr>\n",
       "    <tr>\n",
       "      <th>...</th>\n",
       "      <td>...</td>\n",
       "      <td>...</td>\n",
       "      <td>...</td>\n",
       "      <td>...</td>\n",
       "    </tr>\n",
       "    <tr>\n",
       "      <th>73</th>\n",
       "      <td>81</td>\n",
       "      <td>81</td>\n",
       "      <td>Siapa yang mentaatiku berarti ia mentaati Alla...</td>\n",
       "      <td>1</td>\n",
       "    </tr>\n",
       "    <tr>\n",
       "      <th>74</th>\n",
       "      <td>20</td>\n",
       "      <td>20</td>\n",
       "      <td>Demi Dzat yang jiwaku berada di tanganNYA kala...</td>\n",
       "      <td>1</td>\n",
       "    </tr>\n",
       "    <tr>\n",
       "      <th>75</th>\n",
       "      <td>21</td>\n",
       "      <td>21</td>\n",
       "      <td>Kami mendatangi Nabi shallallahu alaihi wasall...</td>\n",
       "      <td>1</td>\n",
       "    </tr>\n",
       "    <tr>\n",
       "      <th>76</th>\n",
       "      <td>97</td>\n",
       "      <td>97</td>\n",
       "      <td>Seorang lakilaki Yahudi berkata kepada Umar Wa...</td>\n",
       "      <td>1</td>\n",
       "    </tr>\n",
       "    <tr>\n",
       "      <th>77</th>\n",
       "      <td>186</td>\n",
       "      <td>185</td>\n",
       "      <td>Rasulullah shallallahu alaihi wasallam bersabda</td>\n",
       "      <td>2</td>\n",
       "    </tr>\n",
       "  </tbody>\n",
       "</table>\n",
       "<p>77 rows × 4 columns</p>\n",
       "</div>"
      ],
      "text/plain": [
       "         indo                                                               \n",
       "        count unique                                                top freq\n",
       "kitabId                                                                     \n",
       "1           6      6  Semua perbuatan tergantung niatnya dan balasan...    1\n",
       "2          50     50  Islam dibangun diatas lima landasan persaksian...    1\n",
       "3          75     73  celakalah bagi tumittumit yang tidak basah aka...    2\n",
       "4         108    108  Rasulullah shallallahu alaihi wasallam bersabd...    1\n",
       "5          45     45   bahwa jika Nabi shallallahu alaihi wasallam m...    1\n",
       "...       ...    ...                                                ...  ...\n",
       "73         81     81  Siapa yang mentaatiku berarti ia mentaati Alla...    1\n",
       "74         20     20  Demi Dzat yang jiwaku berada di tanganNYA kala...    1\n",
       "75         21     21  Kami mendatangi Nabi shallallahu alaihi wasall...    1\n",
       "76         97     97  Seorang lakilaki Yahudi berkata kepada Umar Wa...    1\n",
       "77        186    185   Rasulullah shallallahu alaihi wasallam bersabda     2\n",
       "\n",
       "[77 rows x 4 columns]"
      ]
     },
     "execution_count": 27,
     "metadata": {},
     "output_type": "execute_result"
    }
   ],
   "source": [
    "a = remove_sanad.groupby('kitabId').describe()\n",
    "a"
   ]
  },
  {
   "cell_type": "code",
   "execution_count": 29,
   "id": "14e7945d",
   "metadata": {},
   "outputs": [
    {
     "data": {
      "text/html": [
       "<div>\n",
       "<style scoped>\n",
       "    .dataframe tbody tr th:only-of-type {\n",
       "        vertical-align: middle;\n",
       "    }\n",
       "\n",
       "    .dataframe tbody tr th {\n",
       "        vertical-align: top;\n",
       "    }\n",
       "\n",
       "    .dataframe thead tr th {\n",
       "        text-align: left;\n",
       "    }\n",
       "\n",
       "    .dataframe thead tr:last-of-type th {\n",
       "        text-align: right;\n",
       "    }\n",
       "</style>\n",
       "<table border=\"1\" class=\"dataframe\">\n",
       "  <thead>\n",
       "    <tr>\n",
       "      <th></th>\n",
       "      <th colspan=\"4\" halign=\"left\">indo</th>\n",
       "    </tr>\n",
       "    <tr>\n",
       "      <th></th>\n",
       "      <th>count</th>\n",
       "      <th>unique</th>\n",
       "      <th>top</th>\n",
       "      <th>freq</th>\n",
       "    </tr>\n",
       "    <tr>\n",
       "      <th>kitabId</th>\n",
       "      <th></th>\n",
       "      <th></th>\n",
       "      <th></th>\n",
       "      <th></th>\n",
       "    </tr>\n",
       "  </thead>\n",
       "  <tbody>\n",
       "    <tr>\n",
       "      <th>1</th>\n",
       "      <td>91</td>\n",
       "      <td>6</td>\n",
       "      <td>Semua perbuatan tergantung niatnya dan balasan...</td>\n",
       "      <td>16</td>\n",
       "    </tr>\n",
       "    <tr>\n",
       "      <th>2</th>\n",
       "      <td>91</td>\n",
       "      <td>50</td>\n",
       "      <td>Islam dibangun diatas lima landasan persaksian...</td>\n",
       "      <td>2</td>\n",
       "    </tr>\n",
       "    <tr>\n",
       "      <th>3</th>\n",
       "      <td>91</td>\n",
       "      <td>73</td>\n",
       "      <td>celakalah bagi tumittumit yang tidak basah aka...</td>\n",
       "      <td>3</td>\n",
       "    </tr>\n",
       "    <tr>\n",
       "      <th>4</th>\n",
       "      <td>91</td>\n",
       "      <td>91</td>\n",
       "      <td>Ketika Rasulullah shallallahu alaihi wasallam ...</td>\n",
       "      <td>1</td>\n",
       "    </tr>\n",
       "    <tr>\n",
       "      <th>5</th>\n",
       "      <td>91</td>\n",
       "      <td>45</td>\n",
       "      <td>bahwa jika Nabi shallallahu alaihi wasallam m...</td>\n",
       "      <td>3</td>\n",
       "    </tr>\n",
       "    <tr>\n",
       "      <th>...</th>\n",
       "      <td>...</td>\n",
       "      <td>...</td>\n",
       "      <td>...</td>\n",
       "      <td>...</td>\n",
       "    </tr>\n",
       "    <tr>\n",
       "      <th>73</th>\n",
       "      <td>91</td>\n",
       "      <td>81</td>\n",
       "      <td>Siapa yang mentaatiku berarti ia mentaati Alla...</td>\n",
       "      <td>2</td>\n",
       "    </tr>\n",
       "    <tr>\n",
       "      <th>74</th>\n",
       "      <td>91</td>\n",
       "      <td>20</td>\n",
       "      <td>Demi Dzat yang jiwaku berada di tanganNYA kala...</td>\n",
       "      <td>5</td>\n",
       "    </tr>\n",
       "    <tr>\n",
       "      <th>75</th>\n",
       "      <td>91</td>\n",
       "      <td>21</td>\n",
       "      <td>Kami mendatangi Nabi shallallahu alaihi wasall...</td>\n",
       "      <td>5</td>\n",
       "    </tr>\n",
       "    <tr>\n",
       "      <th>76</th>\n",
       "      <td>91</td>\n",
       "      <td>91</td>\n",
       "      <td>Ia meneruskan Aku terus bertolak hingga kutem...</td>\n",
       "      <td>1</td>\n",
       "    </tr>\n",
       "    <tr>\n",
       "      <th>77</th>\n",
       "      <td>91</td>\n",
       "      <td>91</td>\n",
       "      <td>Kami bertanya Ya Rasulullah apakah kita akan m...</td>\n",
       "      <td>1</td>\n",
       "    </tr>\n",
       "  </tbody>\n",
       "</table>\n",
       "<p>77 rows × 4 columns</p>\n",
       "</div>"
      ],
      "text/plain": [
       "         indo                                                               \n",
       "        count unique                                                top freq\n",
       "kitabId                                                                     \n",
       "1          91      6  Semua perbuatan tergantung niatnya dan balasan...   16\n",
       "2          91     50  Islam dibangun diatas lima landasan persaksian...    2\n",
       "3          91     73  celakalah bagi tumittumit yang tidak basah aka...    3\n",
       "4          91     91  Ketika Rasulullah shallallahu alaihi wasallam ...    1\n",
       "5          91     45   bahwa jika Nabi shallallahu alaihi wasallam m...    3\n",
       "...       ...    ...                                                ...  ...\n",
       "73         91     81  Siapa yang mentaatiku berarti ia mentaati Alla...    2\n",
       "74         91     20  Demi Dzat yang jiwaku berada di tanganNYA kala...    5\n",
       "75         91     21  Kami mendatangi Nabi shallallahu alaihi wasall...    5\n",
       "76         91     91   Ia meneruskan Aku terus bertolak hingga kutem...    1\n",
       "77         91     91  Kami bertanya Ya Rasulullah apakah kita akan m...    1\n",
       "\n",
       "[77 rows x 4 columns]"
      ]
     },
     "execution_count": 29,
     "metadata": {},
     "output_type": "execute_result"
    }
   ],
   "source": [
    "a = bukhari2.groupby('kitabId').describe()\n",
    "a"
   ]
  },
  {
   "cell_type": "code",
   "execution_count": 31,
   "id": "d692f109",
   "metadata": {},
   "outputs": [
    {
     "data": {
      "text/plain": [
       "482"
      ]
     },
     "execution_count": 31,
     "metadata": {},
     "output_type": "execute_result"
    }
   ],
   "source": [
    "max(a['indo']['count'])"
   ]
  },
  {
   "cell_type": "code",
   "execution_count": 32,
   "id": "27eb5dc8",
   "metadata": {},
   "outputs": [
    {
     "data": {
      "text/plain": [
       "3"
      ]
     },
     "execution_count": 32,
     "metadata": {},
     "output_type": "execute_result"
    }
   ],
   "source": [
    "min(a['indo']['count'])"
   ]
  },
  {
   "cell_type": "code",
   "execution_count": null,
   "id": "c7f77e69",
   "metadata": {},
   "outputs": [],
   "source": [
    "#------------------"
   ]
  },
  {
   "cell_type": "code",
   "execution_count": 507,
   "id": "2ab90cf6",
   "metadata": {},
   "outputs": [
    {
     "data": {
      "text/html": [
       "<div>\n",
       "<style scoped>\n",
       "    .dataframe tbody tr th:only-of-type {\n",
       "        vertical-align: middle;\n",
       "    }\n",
       "\n",
       "    .dataframe tbody tr th {\n",
       "        vertical-align: top;\n",
       "    }\n",
       "\n",
       "    .dataframe thead th {\n",
       "        text-align: right;\n",
       "    }\n",
       "</style>\n",
       "<table border=\"1\" class=\"dataframe\">\n",
       "  <thead>\n",
       "    <tr style=\"text-align: right;\">\n",
       "      <th></th>\n",
       "      <th>kitabId</th>\n",
       "      <th>indo</th>\n",
       "    </tr>\n",
       "  </thead>\n",
       "  <tbody>\n",
       "    <tr>\n",
       "      <th>0</th>\n",
       "      <td>1</td>\n",
       "      <td>Telah menceritakan kepada kami [Al Humaidi Abd...</td>\n",
       "    </tr>\n",
       "    <tr>\n",
       "      <th>1</th>\n",
       "      <td>1</td>\n",
       "      <td>Telah menceritakan kepada kami [Abdullah bin Y...</td>\n",
       "    </tr>\n",
       "    <tr>\n",
       "      <th>2</th>\n",
       "      <td>1</td>\n",
       "      <td>Telah menceritakan kepada kami [Yahya bin Buka...</td>\n",
       "    </tr>\n",
       "    <tr>\n",
       "      <th>3</th>\n",
       "      <td>1</td>\n",
       "      <td>Telah menceritakan kepada kami [Musa bin Isma'...</td>\n",
       "    </tr>\n",
       "    <tr>\n",
       "      <th>4</th>\n",
       "      <td>1</td>\n",
       "      <td>Telah menceritakan kepada kami [Abdan] dia ber...</td>\n",
       "    </tr>\n",
       "  </tbody>\n",
       "</table>\n",
       "</div>"
      ],
      "text/plain": [
       "   kitabId                                               indo\n",
       "0        1  Telah menceritakan kepada kami [Al Humaidi Abd...\n",
       "1        1  Telah menceritakan kepada kami [Abdullah bin Y...\n",
       "2        1  Telah menceritakan kepada kami [Yahya bin Buka...\n",
       "3        1  Telah menceritakan kepada kami [Musa bin Isma'...\n",
       "4        1  Telah menceritakan kepada kami [Abdan] dia ber..."
      ]
     },
     "execution_count": 507,
     "metadata": {},
     "output_type": "execute_result"
    }
   ],
   "source": [
    "bukhari.head()"
   ]
  },
  {
   "cell_type": "code",
   "execution_count": 504,
   "id": "4305713a",
   "metadata": {},
   "outputs": [],
   "source": [
    "save = bukhari.groupby('kitabId').describe()"
   ]
  },
  {
   "cell_type": "code",
   "execution_count": 505,
   "id": "570541fc",
   "metadata": {},
   "outputs": [],
   "source": [
    "save.to_csv(r'bukhari_desc.csv', index=False)"
   ]
  },
  {
   "cell_type": "code",
   "execution_count": 257,
   "id": "ee79d267",
   "metadata": {},
   "outputs": [
    {
     "name": "stderr",
     "output_type": "stream",
     "text": [
      "100%|████████████████████████████████████████████████████████████████████████████| 5362/5362 [00:01<00:00, 3710.27it/s]\n"
     ]
    }
   ],
   "source": [
    "data = reading_data('hadits/data/muslim.json')\n",
    "rmv = removing_sanad(data)\n",
    "rmv.to_csv(r'NoSanad/muslim.csv', index=False)"
   ]
  },
  {
   "cell_type": "code",
   "execution_count": 124,
   "id": "a04fcfed",
   "metadata": {},
   "outputs": [
    {
     "data": {
      "text/html": [
       "<div>\n",
       "<style scoped>\n",
       "    .dataframe tbody tr th:only-of-type {\n",
       "        vertical-align: middle;\n",
       "    }\n",
       "\n",
       "    .dataframe tbody tr th {\n",
       "        vertical-align: top;\n",
       "    }\n",
       "\n",
       "    .dataframe thead th {\n",
       "        text-align: right;\n",
       "    }\n",
       "</style>\n",
       "<table border=\"1\" class=\"dataframe\">\n",
       "  <thead>\n",
       "    <tr style=\"text-align: right;\">\n",
       "      <th></th>\n",
       "      <th>kitabId</th>\n",
       "      <th>indo</th>\n",
       "    </tr>\n",
       "  </thead>\n",
       "  <tbody>\n",
       "    <tr>\n",
       "      <th>0</th>\n",
       "      <td>1</td>\n",
       "      <td>Barangsiapa menceritakan hadits dariku yang ma...</td>\n",
       "    </tr>\n",
       "    <tr>\n",
       "      <th>1</th>\n",
       "      <td>1</td>\n",
       "      <td>Rasulullah shallallahu alaihi wasallam bersabd...</td>\n",
       "    </tr>\n",
       "    <tr>\n",
       "      <th>2</th>\n",
       "      <td>1</td>\n",
       "      <td>Barangsiapa yang sengaja melakukan kedustaan a...</td>\n",
       "    </tr>\n",
       "    <tr>\n",
       "      <th>3</th>\n",
       "      <td>1</td>\n",
       "      <td>Rasulullah shallallahu alaihi wasallam bersabd...</td>\n",
       "    </tr>\n",
       "    <tr>\n",
       "      <th>4</th>\n",
       "      <td>1</td>\n",
       "      <td>Aku mendatangi masjid sedangkan alMughirah gub...</td>\n",
       "    </tr>\n",
       "  </tbody>\n",
       "</table>\n",
       "</div>"
      ],
      "text/plain": [
       "   kitabId                                               indo\n",
       "0        1  Barangsiapa menceritakan hadits dariku yang ma...\n",
       "1        1  Rasulullah shallallahu alaihi wasallam bersabd...\n",
       "2        1  Barangsiapa yang sengaja melakukan kedustaan a...\n",
       "3        1  Rasulullah shallallahu alaihi wasallam bersabd...\n",
       "4        1  Aku mendatangi masjid sedangkan alMughirah gub..."
      ]
     },
     "execution_count": 124,
     "metadata": {},
     "output_type": "execute_result"
    }
   ],
   "source": [
    "muslim = pd.read_csv('NoSanad/muslim.csv')\n",
    "muslim.head()"
   ]
  },
  {
   "cell_type": "code",
   "execution_count": 258,
   "id": "82bf8990",
   "metadata": {},
   "outputs": [
    {
     "name": "stderr",
     "output_type": "stream",
     "text": [
      "100%|████████████████████████████████████████████████████████████████████████████| 4590/4590 [00:01<00:00, 3890.28it/s]\n"
     ]
    }
   ],
   "source": [
    "data = reading_data('hadits/data/abudaud.json')\n",
    "rmv = removing_sanad(data)\n",
    "rmv.to_csv(r'NoSanad/abudaud.csv', index=False)"
   ]
  },
  {
   "cell_type": "code",
   "execution_count": 125,
   "id": "7e38157f",
   "metadata": {},
   "outputs": [
    {
     "data": {
      "text/html": [
       "<div>\n",
       "<style scoped>\n",
       "    .dataframe tbody tr th:only-of-type {\n",
       "        vertical-align: middle;\n",
       "    }\n",
       "\n",
       "    .dataframe tbody tr th {\n",
       "        vertical-align: top;\n",
       "    }\n",
       "\n",
       "    .dataframe thead th {\n",
       "        text-align: right;\n",
       "    }\n",
       "</style>\n",
       "<table border=\"1\" class=\"dataframe\">\n",
       "  <thead>\n",
       "    <tr style=\"text-align: right;\">\n",
       "      <th></th>\n",
       "      <th>kitabId</th>\n",
       "      <th>indo</th>\n",
       "    </tr>\n",
       "  </thead>\n",
       "  <tbody>\n",
       "    <tr>\n",
       "      <th>0</th>\n",
       "      <td>1</td>\n",
       "      <td>maka beliau menjauh</td>\n",
       "    </tr>\n",
       "    <tr>\n",
       "      <th>1</th>\n",
       "      <td>1</td>\n",
       "      <td>maka beliau pergi hingga tidak ada seorang pu...</td>\n",
       "    </tr>\n",
       "    <tr>\n",
       "      <th>2</th>\n",
       "      <td>1</td>\n",
       "      <td>Apabila salah seorang dari kalian hendak buang...</td>\n",
       "    </tr>\n",
       "    <tr>\n",
       "      <th>3</th>\n",
       "      <td>1</td>\n",
       "      <td>Ya Allah sesungguhnya aku berlindung kepadamu ...</td>\n",
       "    </tr>\n",
       "    <tr>\n",
       "      <th>4</th>\n",
       "      <td>1</td>\n",
       "      <td>Sesungguhnya tempat buang hajat itu dihadiri o...</td>\n",
       "    </tr>\n",
       "  </tbody>\n",
       "</table>\n",
       "</div>"
      ],
      "text/plain": [
       "   kitabId                                               indo\n",
       "0        1                                maka beliau menjauh\n",
       "1        1   maka beliau pergi hingga tidak ada seorang pu...\n",
       "2        1  Apabila salah seorang dari kalian hendak buang...\n",
       "3        1  Ya Allah sesungguhnya aku berlindung kepadamu ...\n",
       "4        1  Sesungguhnya tempat buang hajat itu dihadiri o..."
      ]
     },
     "execution_count": 125,
     "metadata": {},
     "output_type": "execute_result"
    }
   ],
   "source": [
    "abudaud = pd.read_csv('NoSanad/abudaud.csv')\n",
    "abudaud.head()"
   ]
  },
  {
   "cell_type": "code",
   "execution_count": 259,
   "id": "21e2ae6d",
   "metadata": {},
   "outputs": [
    {
     "name": "stderr",
     "output_type": "stream",
     "text": [
      "100%|████████████████████████████████████████████████████████████████████████████| 3367/3367 [00:00<00:00, 3939.91it/s]\n"
     ]
    }
   ],
   "source": [
    "data = reading_data('hadits/data/darimi.json')\n",
    "rmv = removing_sanad(data)\n",
    "rmv.to_csv(r'NoSanad/darimi.csv', index=False)"
   ]
  },
  {
   "cell_type": "code",
   "execution_count": 126,
   "id": "c05aef57",
   "metadata": {},
   "outputs": [
    {
     "data": {
      "text/html": [
       "<div>\n",
       "<style scoped>\n",
       "    .dataframe tbody tr th:only-of-type {\n",
       "        vertical-align: middle;\n",
       "    }\n",
       "\n",
       "    .dataframe tbody tr th {\n",
       "        vertical-align: top;\n",
       "    }\n",
       "\n",
       "    .dataframe thead th {\n",
       "        text-align: right;\n",
       "    }\n",
       "</style>\n",
       "<table border=\"1\" class=\"dataframe\">\n",
       "  <thead>\n",
       "    <tr style=\"text-align: right;\">\n",
       "      <th></th>\n",
       "      <th>kitabId</th>\n",
       "      <th>indo</th>\n",
       "    </tr>\n",
       "  </thead>\n",
       "  <tbody>\n",
       "    <tr>\n",
       "      <th>0</th>\n",
       "      <td>1</td>\n",
       "      <td>ia berkata Datang kepada Rasulullah shallalla...</td>\n",
       "    </tr>\n",
       "    <tr>\n",
       "      <th>1</th>\n",
       "      <td>1</td>\n",
       "      <td>kami dahulu adalah orangorang jahiliyah penye...</td>\n",
       "    </tr>\n",
       "    <tr>\n",
       "      <th>2</th>\n",
       "      <td>1</td>\n",
       "      <td>ia berkata keluargaku melarangku makan keju k...</td>\n",
       "    </tr>\n",
       "    <tr>\n",
       "      <th>3</th>\n",
       "      <td>1</td>\n",
       "      <td>ia berkata kami dulu pada masa jahiliyah apab...</td>\n",
       "    </tr>\n",
       "    <tr>\n",
       "      <th>4</th>\n",
       "      <td>1</td>\n",
       "      <td>beliau tidak kasar tutur katanya tidak keras ...</td>\n",
       "    </tr>\n",
       "  </tbody>\n",
       "</table>\n",
       "</div>"
      ],
      "text/plain": [
       "   kitabId                                               indo\n",
       "0        1   ia berkata Datang kepada Rasulullah shallalla...\n",
       "1        1   kami dahulu adalah orangorang jahiliyah penye...\n",
       "2        1   ia berkata keluargaku melarangku makan keju k...\n",
       "3        1   ia berkata kami dulu pada masa jahiliyah apab...\n",
       "4        1   beliau tidak kasar tutur katanya tidak keras ..."
      ]
     },
     "execution_count": 126,
     "metadata": {},
     "output_type": "execute_result"
    }
   ],
   "source": [
    "darimi = pd.read_csv('NoSanad/darimi.csv')\n",
    "darimi.head()"
   ]
  },
  {
   "cell_type": "code",
   "execution_count": 260,
   "id": "2d255cc4",
   "metadata": {},
   "outputs": [
    {
     "name": "stderr",
     "output_type": "stream",
     "text": [
      "100%|████████████████████████████████████████████████████████████████████████████| 4332/4332 [00:01<00:00, 4116.57it/s]\n"
     ]
    }
   ],
   "source": [
    "data = reading_data('hadits/data/ibnumajah.json')\n",
    "rmv = removing_sanad(data)\n",
    "rmv.to_csv(r'NoSanad/ibnumajah.csv', index=False)"
   ]
  },
  {
   "cell_type": "code",
   "execution_count": 127,
   "id": "e8658151",
   "metadata": {},
   "outputs": [
    {
     "data": {
      "text/html": [
       "<div>\n",
       "<style scoped>\n",
       "    .dataframe tbody tr th:only-of-type {\n",
       "        vertical-align: middle;\n",
       "    }\n",
       "\n",
       "    .dataframe tbody tr th {\n",
       "        vertical-align: top;\n",
       "    }\n",
       "\n",
       "    .dataframe thead th {\n",
       "        text-align: right;\n",
       "    }\n",
       "</style>\n",
       "<table border=\"1\" class=\"dataframe\">\n",
       "  <thead>\n",
       "    <tr style=\"text-align: right;\">\n",
       "      <th></th>\n",
       "      <th>kitabId</th>\n",
       "      <th>indo</th>\n",
       "    </tr>\n",
       "  </thead>\n",
       "  <tbody>\n",
       "    <tr>\n",
       "      <th>0</th>\n",
       "      <td>1</td>\n",
       "      <td>Apa yang aku perintahkan maka ambillah dan apa...</td>\n",
       "    </tr>\n",
       "    <tr>\n",
       "      <th>1</th>\n",
       "      <td>1</td>\n",
       "      <td>Biarkanlah apa yang telah aku tinggalkan untuk...</td>\n",
       "    </tr>\n",
       "    <tr>\n",
       "      <th>2</th>\n",
       "      <td>1</td>\n",
       "      <td>Barangsiapa mentaatiku maka ia telah taat kep...</td>\n",
       "    </tr>\n",
       "    <tr>\n",
       "      <th>3</th>\n",
       "      <td>1</td>\n",
       "      <td>Ibnu Umar Jika mendengar sebuah hadits dari R...</td>\n",
       "    </tr>\n",
       "    <tr>\n",
       "      <th>4</th>\n",
       "      <td>1</td>\n",
       "      <td>Rasulullah shallallahu alaihi wasallam keluar ...</td>\n",
       "    </tr>\n",
       "  </tbody>\n",
       "</table>\n",
       "</div>"
      ],
      "text/plain": [
       "   kitabId                                               indo\n",
       "0        1  Apa yang aku perintahkan maka ambillah dan apa...\n",
       "1        1  Biarkanlah apa yang telah aku tinggalkan untuk...\n",
       "2        1   Barangsiapa mentaatiku maka ia telah taat kep...\n",
       "3        1   Ibnu Umar Jika mendengar sebuah hadits dari R...\n",
       "4        1  Rasulullah shallallahu alaihi wasallam keluar ..."
      ]
     },
     "execution_count": 127,
     "metadata": {},
     "output_type": "execute_result"
    }
   ],
   "source": [
    "ibnumajah = pd.read_csv('NoSanad/ibnumajah.csv')\n",
    "ibnumajah.head()"
   ]
  },
  {
   "cell_type": "code",
   "execution_count": 261,
   "id": "b0d35b2a",
   "metadata": {},
   "outputs": [
    {
     "name": "stderr",
     "output_type": "stream",
     "text": [
      "100%|████████████████████████████████████████████████████████████████████████████| 1594/1594 [00:00<00:00, 4331.37it/s]\n"
     ]
    }
   ],
   "source": [
    "data = reading_data('hadits/data/malik.json')\n",
    "rmv = removing_sanad(data)\n",
    "rmv.to_csv(r'NoSanad/malik.csv', index=False)"
   ]
  },
  {
   "cell_type": "code",
   "execution_count": 128,
   "id": "c359a080",
   "metadata": {},
   "outputs": [
    {
     "data": {
      "text/html": [
       "<div>\n",
       "<style scoped>\n",
       "    .dataframe tbody tr th:only-of-type {\n",
       "        vertical-align: middle;\n",
       "    }\n",
       "\n",
       "    .dataframe tbody tr th {\n",
       "        vertical-align: top;\n",
       "    }\n",
       "\n",
       "    .dataframe thead th {\n",
       "        text-align: right;\n",
       "    }\n",
       "</style>\n",
       "<table border=\"1\" class=\"dataframe\">\n",
       "  <thead>\n",
       "    <tr style=\"text-align: right;\">\n",
       "      <th></th>\n",
       "      <th>kitabId</th>\n",
       "      <th>indo</th>\n",
       "    </tr>\n",
       "  </thead>\n",
       "  <tbody>\n",
       "    <tr>\n",
       "      <th>0</th>\n",
       "      <td>1</td>\n",
       "      <td>Apa maksudmu hai Mughirah bukankah kamu tahu J...</td>\n",
       "    </tr>\n",
       "    <tr>\n",
       "      <th>1</th>\n",
       "      <td>1</td>\n",
       "      <td>Dimana lakilaki yang bertanya kepadaku tentang...</td>\n",
       "    </tr>\n",
       "    <tr>\n",
       "      <th>2</th>\n",
       "      <td>1</td>\n",
       "      <td>ketika Rasulullah shallallahu alaihi wasallam ...</td>\n",
       "    </tr>\n",
       "    <tr>\n",
       "      <th>3</th>\n",
       "      <td>1</td>\n",
       "      <td>Barangsiapa mendapatkan satu rakaat shalat sub...</td>\n",
       "    </tr>\n",
       "    <tr>\n",
       "      <th>4</th>\n",
       "      <td>1</td>\n",
       "      <td>Menurutku yang paling penting dari urusan kali...</td>\n",
       "    </tr>\n",
       "  </tbody>\n",
       "</table>\n",
       "</div>"
      ],
      "text/plain": [
       "   kitabId                                               indo\n",
       "0        1  Apa maksudmu hai Mughirah bukankah kamu tahu J...\n",
       "1        1  Dimana lakilaki yang bertanya kepadaku tentang...\n",
       "2        1  ketika Rasulullah shallallahu alaihi wasallam ...\n",
       "3        1  Barangsiapa mendapatkan satu rakaat shalat sub...\n",
       "4        1  Menurutku yang paling penting dari urusan kali..."
      ]
     },
     "execution_count": 128,
     "metadata": {},
     "output_type": "execute_result"
    }
   ],
   "source": [
    "malik = pd.read_csv('NoSanad/malik.csv')\n",
    "malik.head()"
   ]
  },
  {
   "cell_type": "code",
   "execution_count": 262,
   "id": "1df32199",
   "metadata": {},
   "outputs": [
    {
     "name": "stderr",
     "output_type": "stream",
     "text": [
      "100%|████████████████████████████████████████████████████████████████████████████| 5662/5662 [00:01<00:00, 3894.50it/s]\n"
     ]
    }
   ],
   "source": [
    "data = reading_data('hadits/data/nasai.json')\n",
    "rmv = removing_sanad(data)\n",
    "rmv.to_csv(r'NoSanad/nasai.csv', index=False)"
   ]
  },
  {
   "cell_type": "code",
   "execution_count": 129,
   "id": "f1b3ee9e",
   "metadata": {},
   "outputs": [
    {
     "data": {
      "text/html": [
       "<div>\n",
       "<style scoped>\n",
       "    .dataframe tbody tr th:only-of-type {\n",
       "        vertical-align: middle;\n",
       "    }\n",
       "\n",
       "    .dataframe tbody tr th {\n",
       "        vertical-align: top;\n",
       "    }\n",
       "\n",
       "    .dataframe thead th {\n",
       "        text-align: right;\n",
       "    }\n",
       "</style>\n",
       "<table border=\"1\" class=\"dataframe\">\n",
       "  <thead>\n",
       "    <tr style=\"text-align: right;\">\n",
       "      <th></th>\n",
       "      <th>kitabId</th>\n",
       "      <th>indo</th>\n",
       "    </tr>\n",
       "  </thead>\n",
       "  <tbody>\n",
       "    <tr>\n",
       "      <th>0</th>\n",
       "      <td>1</td>\n",
       "      <td>Apabila salah seorang dari kalian bangun dari...</td>\n",
       "    </tr>\n",
       "    <tr>\n",
       "      <th>1</th>\n",
       "      <td>1</td>\n",
       "      <td>Rasulullah shallallahu alaihi wasallam apabil...</td>\n",
       "    </tr>\n",
       "    <tr>\n",
       "      <th>2</th>\n",
       "      <td>1</td>\n",
       "      <td>Saya menemui Rasulullah shallallahu alaihi was...</td>\n",
       "    </tr>\n",
       "    <tr>\n",
       "      <th>3</th>\n",
       "      <td>1</td>\n",
       "      <td>Aku pernah menghadap kepada Rasulullah shalla...</td>\n",
       "    </tr>\n",
       "    <tr>\n",
       "      <th>4</th>\n",
       "      <td>1</td>\n",
       "      <td>Bersiwak mendatangkan kewangian mulut dan mend...</td>\n",
       "    </tr>\n",
       "  </tbody>\n",
       "</table>\n",
       "</div>"
      ],
      "text/plain": [
       "   kitabId                                               indo\n",
       "0        1   Apabila salah seorang dari kalian bangun dari...\n",
       "1        1   Rasulullah shallallahu alaihi wasallam apabil...\n",
       "2        1  Saya menemui Rasulullah shallallahu alaihi was...\n",
       "3        1   Aku pernah menghadap kepada Rasulullah shalla...\n",
       "4        1  Bersiwak mendatangkan kewangian mulut dan mend..."
      ]
     },
     "execution_count": 129,
     "metadata": {},
     "output_type": "execute_result"
    }
   ],
   "source": [
    "nasai = pd.read_csv('NoSanad/nasai.csv')\n",
    "nasai.head()"
   ]
  },
  {
   "cell_type": "code",
   "execution_count": 263,
   "id": "b00d94d6",
   "metadata": {},
   "outputs": [
    {
     "name": "stderr",
     "output_type": "stream",
     "text": [
      "100%|████████████████████████████████████████████████████████████████████████████| 3891/3891 [00:01<00:00, 3871.82it/s]\n"
     ]
    }
   ],
   "source": [
    "data = reading_data('hadits/data/tirmidzi.json')\n",
    "rmv = removing_sanad(data)\n",
    "rmv.to_csv(r'NoSanad/tirmidzi.csv', index=False)"
   ]
  },
  {
   "cell_type": "code",
   "execution_count": 130,
   "id": "af1c0288",
   "metadata": {},
   "outputs": [
    {
     "data": {
      "text/html": [
       "<div>\n",
       "<style scoped>\n",
       "    .dataframe tbody tr th:only-of-type {\n",
       "        vertical-align: middle;\n",
       "    }\n",
       "\n",
       "    .dataframe tbody tr th {\n",
       "        vertical-align: top;\n",
       "    }\n",
       "\n",
       "    .dataframe thead th {\n",
       "        text-align: right;\n",
       "    }\n",
       "</style>\n",
       "<table border=\"1\" class=\"dataframe\">\n",
       "  <thead>\n",
       "    <tr style=\"text-align: right;\">\n",
       "      <th></th>\n",
       "      <th>kitabId</th>\n",
       "      <th>indo</th>\n",
       "    </tr>\n",
       "  </thead>\n",
       "  <tbody>\n",
       "    <tr>\n",
       "      <th>0</th>\n",
       "      <td>1</td>\n",
       "      <td>Tidak akan diterima shalat yang dilakukan tan...</td>\n",
       "    </tr>\n",
       "    <tr>\n",
       "      <th>1</th>\n",
       "      <td>1</td>\n",
       "      <td>Jika seorang muslim atau seorang mukmin berwu...</td>\n",
       "    </tr>\n",
       "    <tr>\n",
       "      <th>2</th>\n",
       "      <td>1</td>\n",
       "      <td>Kunci shalat adalah bersuci keharamannya adal...</td>\n",
       "    </tr>\n",
       "    <tr>\n",
       "      <th>3</th>\n",
       "      <td>1</td>\n",
       "      <td>Kunci surga adalah shalat sedang kunci shalat...</td>\n",
       "    </tr>\n",
       "    <tr>\n",
       "      <th>4</th>\n",
       "      <td>1</td>\n",
       "      <td>ALLAHUMMA INNI AUUDZU BIKA Ya Allah sesungguhn...</td>\n",
       "    </tr>\n",
       "  </tbody>\n",
       "</table>\n",
       "</div>"
      ],
      "text/plain": [
       "   kitabId                                               indo\n",
       "0        1   Tidak akan diterima shalat yang dilakukan tan...\n",
       "1        1   Jika seorang muslim atau seorang mukmin berwu...\n",
       "2        1   Kunci shalat adalah bersuci keharamannya adal...\n",
       "3        1   Kunci surga adalah shalat sedang kunci shalat...\n",
       "4        1  ALLAHUMMA INNI AUUDZU BIKA Ya Allah sesungguhn..."
      ]
     },
     "execution_count": 130,
     "metadata": {},
     "output_type": "execute_result"
    }
   ],
   "source": [
    "tirmidzi = pd.read_csv('NoSanad/tirmidzi.csv')\n",
    "tirmidzi.head()"
   ]
  },
  {
   "cell_type": "code",
   "execution_count": 264,
   "id": "aa0fe195",
   "metadata": {},
   "outputs": [
    {
     "name": "stderr",
     "output_type": "stream",
     "text": [
      "100%|██████████████████████████████████████████████████████████████████████████| 26363/26363 [00:09<00:00, 2687.50it/s]\n"
     ]
    }
   ],
   "source": [
    "data = reading_data('hadits/data/ahmad.json')\n",
    "rmv = removing_sanad(data)\n",
    "rmv.to_csv(r'NoSanad/ahmad.csv', index=False)"
   ]
  },
  {
   "cell_type": "code",
   "execution_count": null,
   "id": "d1485c1f",
   "metadata": {},
   "outputs": [],
   "source": []
  },
  {
   "cell_type": "code",
   "execution_count": 39,
   "id": "a870556e",
   "metadata": {},
   "outputs": [
    {
     "data": {
      "text/html": [
       "<div>\n",
       "<style scoped>\n",
       "    .dataframe tbody tr th:only-of-type {\n",
       "        vertical-align: middle;\n",
       "    }\n",
       "\n",
       "    .dataframe tbody tr th {\n",
       "        vertical-align: top;\n",
       "    }\n",
       "\n",
       "    .dataframe thead th {\n",
       "        text-align: right;\n",
       "    }\n",
       "</style>\n",
       "<table border=\"1\" class=\"dataframe\">\n",
       "  <thead>\n",
       "    <tr style=\"text-align: right;\">\n",
       "      <th></th>\n",
       "      <th>acc</th>\n",
       "      <th>precision</th>\n",
       "      <th>recall</th>\n",
       "      <th>f1_score</th>\n",
       "      <th>loss</th>\n",
       "    </tr>\n",
       "  </thead>\n",
       "  <tbody>\n",
       "    <tr>\n",
       "      <th>0</th>\n",
       "      <td>0.343795</td>\n",
       "      <td>0.328646</td>\n",
       "      <td>0.344740</td>\n",
       "      <td>0.278212</td>\n",
       "      <td>3.380619</td>\n",
       "    </tr>\n",
       "    <tr>\n",
       "      <th>1</th>\n",
       "      <td>0.517832</td>\n",
       "      <td>0.510240</td>\n",
       "      <td>0.514538</td>\n",
       "      <td>0.456954</td>\n",
       "      <td>2.536376</td>\n",
       "    </tr>\n",
       "    <tr>\n",
       "      <th>2</th>\n",
       "      <td>0.611983</td>\n",
       "      <td>0.595292</td>\n",
       "      <td>0.604098</td>\n",
       "      <td>0.560457</td>\n",
       "      <td>2.001235</td>\n",
       "    </tr>\n",
       "    <tr>\n",
       "      <th>3</th>\n",
       "      <td>0.691869</td>\n",
       "      <td>0.666890</td>\n",
       "      <td>0.689009</td>\n",
       "      <td>0.654599</td>\n",
       "      <td>1.625459</td>\n",
       "    </tr>\n",
       "    <tr>\n",
       "      <th>4</th>\n",
       "      <td>0.721826</td>\n",
       "      <td>0.692229</td>\n",
       "      <td>0.718869</td>\n",
       "      <td>0.685685</td>\n",
       "      <td>1.358262</td>\n",
       "    </tr>\n",
       "  </tbody>\n",
       "</table>\n",
       "</div>"
      ],
      "text/plain": [
       "        acc  precision    recall  f1_score      loss\n",
       "0  0.343795   0.328646  0.344740  0.278212  3.380619\n",
       "1  0.517832   0.510240  0.514538  0.456954  2.536376\n",
       "2  0.611983   0.595292  0.604098  0.560457  2.001235\n",
       "3  0.691869   0.666890  0.689009  0.654599  1.625459\n",
       "4  0.721826   0.692229  0.718869  0.685685  1.358262"
      ]
     },
     "execution_count": 39,
     "metadata": {},
     "output_type": "execute_result"
    }
   ],
   "source": [
    "tirmidzi = pd.read_csv('metrics_nrr.csv')\n",
    "tirmidzi.head()"
   ]
  },
  {
   "cell_type": "code",
   "execution_count": 40,
   "id": "1c76c479",
   "metadata": {},
   "outputs": [
    {
     "data": {
      "image/png": "[encoded data removed]",
      "text/plain": [
       "<Figure size 432x288 with 1 Axes>"
      ]
     },
     "metadata": {
      "needs_background": "light"
     },
     "output_type": "display_data"
    },
    {
     "data": {
      "image/png": "[encoded data removed]",
      "text/plain": [
       "<Figure size 432x288 with 1 Axes>"
      ]
     },
     "metadata": {
      "needs_background": "light"
     },
     "output_type": "display_data"
    }
   ],
   "source": [
    "import matplotlib.pyplot as plt\n",
    "\n",
    "\n",
    "def plot_graphs(history, string, string2):\n",
    "  plt.plot(history[string])\n",
    "  plt.plot(history[string2])\n",
    "  plt.xlabel(\"Epochs\")\n",
    "  plt.legend([string, string2])\n",
    "  plt.show()\n",
    "def plot_graphs2(history, string, string2, string3):\n",
    "  plt.plot(history[string])\n",
    "  plt.plot(history[string2])\n",
    "  plt.plot(history[string3])\n",
    "  plt.xlabel(\"Epochs\")\n",
    "  plt.legend([string, string2, string3])\n",
    "  plt.show()\n",
    "\n",
    "plot_graphs(tirmidzi, 'acc', 'loss')\n",
    "plot_graphs2(tirmidzi, 'precision', 'recall', 'f1_score')"
   ]
  },
  {
   "cell_type": "code",
   "execution_count": null,
   "id": "1dc03485",
   "metadata": {},
   "outputs": [],
   "source": []
  }
 ],
 "metadata": {
  "kernelspec": {
   "display_name": "Python 3 (ipykernel)",
   "language": "python",
   "name": "python3"
  },
  "language_info": {
   "codemirror_mode": {
    "name": "ipython",
    "version": 3
   },
   "file_extension": ".py",
   "mimetype": "text/x-python",
   "name": "python",
   "nbconvert_exporter": "python",
   "pygments_lexer": "ipython3",
   "version": "3.9.5"
  }
 },
 "nbformat": 4,
 "nbformat_minor": 5
}
